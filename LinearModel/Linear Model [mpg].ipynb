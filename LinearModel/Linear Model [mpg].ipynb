{
 "cells": [
  {
   "cell_type": "code",
   "execution_count": 1,
   "metadata": {},
   "outputs": [
    {
     "name": "stderr",
     "output_type": "stream",
     "text": [
      "/usr/local/lib/python3.6/site-packages/h5py/__init__.py:36: FutureWarning: Conversion of the second argument of issubdtype from `float` to `np.floating` is deprecated. In future, it will be treated as `np.float64 == np.dtype(float).type`.\n",
      "  from ._conv import register_converters as _register_converters\n"
     ]
    }
   ],
   "source": [
    "import pandas as pd\n",
    "import numpy as np\n",
    "import tensorflow as tf\n",
    "from sklearn import preprocessing\n",
    "from sklearn.metrics import mean_absolute_error\n",
    "import matplotlib.pyplot as plt"
   ]
  },
  {
   "cell_type": "code",
   "execution_count": 2,
   "metadata": {},
   "outputs": [],
   "source": [
    "with open('auto-mpg.data', 'r') as f:\n",
    "    lines = f.readlines()\n",
    "    \n",
    "for index, line in enumerate(lines):\n",
    "    lines[index] = line.split()\n",
    "    \n",
    "data = pd.DataFrame(lines, columns=['mpg', 'cylinders', 'displacement', 'horsepower', 'weight', 'acceleration', 'model_year', 'origin', 'car_name', '1', '2', '3', '4', '4'])\n",
    "data = data[['mpg', 'cylinders','displacement', 'horsepower', 'weight', 'acceleration', 'model_year']]\n",
    "data = data[data.horsepower != '?']\n",
    "data = data.apply(pd.to_numeric)"
   ]
  },
  {
   "cell_type": "code",
   "execution_count": 3,
   "metadata": {},
   "outputs": [
    {
     "data": {
      "text/html": [
       "<div>\n",
       "<style scoped>\n",
       "    .dataframe tbody tr th:only-of-type {\n",
       "        vertical-align: middle;\n",
       "    }\n",
       "\n",
       "    .dataframe tbody tr th {\n",
       "        vertical-align: top;\n",
       "    }\n",
       "\n",
       "    .dataframe thead th {\n",
       "        text-align: right;\n",
       "    }\n",
       "</style>\n",
       "<table border=\"1\" class=\"dataframe\">\n",
       "  <thead>\n",
       "    <tr style=\"text-align: right;\">\n",
       "      <th></th>\n",
       "      <th>mpg</th>\n",
       "      <th>cylinders</th>\n",
       "      <th>displacement</th>\n",
       "      <th>horsepower</th>\n",
       "      <th>weight</th>\n",
       "      <th>acceleration</th>\n",
       "      <th>model_year</th>\n",
       "    </tr>\n",
       "  </thead>\n",
       "  <tbody>\n",
       "    <tr>\n",
       "      <th>0</th>\n",
       "      <td>18.0</td>\n",
       "      <td>8</td>\n",
       "      <td>307.0</td>\n",
       "      <td>130.0</td>\n",
       "      <td>3504.0</td>\n",
       "      <td>12.0</td>\n",
       "      <td>70</td>\n",
       "    </tr>\n",
       "    <tr>\n",
       "      <th>1</th>\n",
       "      <td>15.0</td>\n",
       "      <td>8</td>\n",
       "      <td>350.0</td>\n",
       "      <td>165.0</td>\n",
       "      <td>3693.0</td>\n",
       "      <td>11.5</td>\n",
       "      <td>70</td>\n",
       "    </tr>\n",
       "    <tr>\n",
       "      <th>2</th>\n",
       "      <td>18.0</td>\n",
       "      <td>8</td>\n",
       "      <td>318.0</td>\n",
       "      <td>150.0</td>\n",
       "      <td>3436.0</td>\n",
       "      <td>11.0</td>\n",
       "      <td>70</td>\n",
       "    </tr>\n",
       "    <tr>\n",
       "      <th>3</th>\n",
       "      <td>16.0</td>\n",
       "      <td>8</td>\n",
       "      <td>304.0</td>\n",
       "      <td>150.0</td>\n",
       "      <td>3433.0</td>\n",
       "      <td>12.0</td>\n",
       "      <td>70</td>\n",
       "    </tr>\n",
       "    <tr>\n",
       "      <th>4</th>\n",
       "      <td>17.0</td>\n",
       "      <td>8</td>\n",
       "      <td>302.0</td>\n",
       "      <td>140.0</td>\n",
       "      <td>3449.0</td>\n",
       "      <td>10.5</td>\n",
       "      <td>70</td>\n",
       "    </tr>\n",
       "  </tbody>\n",
       "</table>\n",
       "</div>"
      ],
      "text/plain": [
       "    mpg  cylinders  displacement  horsepower  weight  acceleration  model_year\n",
       "0  18.0          8         307.0       130.0  3504.0          12.0          70\n",
       "1  15.0          8         350.0       165.0  3693.0          11.5          70\n",
       "2  18.0          8         318.0       150.0  3436.0          11.0          70\n",
       "3  16.0          8         304.0       150.0  3433.0          12.0          70\n",
       "4  17.0          8         302.0       140.0  3449.0          10.5          70"
      ]
     },
     "execution_count": 3,
     "metadata": {},
     "output_type": "execute_result"
    }
   ],
   "source": [
    "data.dropna(inplace=True)\n",
    "data.head()"
   ]
  },
  {
   "cell_type": "code",
   "execution_count": 4,
   "metadata": {},
   "outputs": [],
   "source": [
    "x_data= data[['cylinders','displacement', 'horsepower', 'weight', 'acceleration', 'model_year']]\n",
    "y_data = data['mpg']\n",
    "\n",
    "min_max_scaler = preprocessing.MinMaxScaler()\n",
    "x_data = min_max_scaler.fit_transform(x_data)"
   ]
  },
  {
   "cell_type": "code",
   "execution_count": 5,
   "metadata": {},
   "outputs": [
    {
     "data": {
      "text/html": [
       "<div>\n",
       "<style scoped>\n",
       "    .dataframe tbody tr th:only-of-type {\n",
       "        vertical-align: middle;\n",
       "    }\n",
       "\n",
       "    .dataframe tbody tr th {\n",
       "        vertical-align: top;\n",
       "    }\n",
       "\n",
       "    .dataframe thead th {\n",
       "        text-align: right;\n",
       "    }\n",
       "</style>\n",
       "<table border=\"1\" class=\"dataframe\">\n",
       "  <thead>\n",
       "    <tr style=\"text-align: right;\">\n",
       "      <th></th>\n",
       "      <th>cylinders</th>\n",
       "      <th>displacement</th>\n",
       "      <th>horsepower</th>\n",
       "      <th>weight</th>\n",
       "      <th>acceleration</th>\n",
       "      <th>model_year</th>\n",
       "    </tr>\n",
       "  </thead>\n",
       "  <tbody>\n",
       "    <tr>\n",
       "      <th>0</th>\n",
       "      <td>1.0</td>\n",
       "      <td>0.617571</td>\n",
       "      <td>0.456522</td>\n",
       "      <td>0.536150</td>\n",
       "      <td>0.238095</td>\n",
       "      <td>0.0</td>\n",
       "    </tr>\n",
       "    <tr>\n",
       "      <th>1</th>\n",
       "      <td>1.0</td>\n",
       "      <td>0.728682</td>\n",
       "      <td>0.646739</td>\n",
       "      <td>0.589736</td>\n",
       "      <td>0.208333</td>\n",
       "      <td>0.0</td>\n",
       "    </tr>\n",
       "    <tr>\n",
       "      <th>2</th>\n",
       "      <td>1.0</td>\n",
       "      <td>0.645995</td>\n",
       "      <td>0.565217</td>\n",
       "      <td>0.516870</td>\n",
       "      <td>0.178571</td>\n",
       "      <td>0.0</td>\n",
       "    </tr>\n",
       "    <tr>\n",
       "      <th>3</th>\n",
       "      <td>1.0</td>\n",
       "      <td>0.609819</td>\n",
       "      <td>0.565217</td>\n",
       "      <td>0.516019</td>\n",
       "      <td>0.238095</td>\n",
       "      <td>0.0</td>\n",
       "    </tr>\n",
       "    <tr>\n",
       "      <th>4</th>\n",
       "      <td>1.0</td>\n",
       "      <td>0.604651</td>\n",
       "      <td>0.510870</td>\n",
       "      <td>0.520556</td>\n",
       "      <td>0.148810</td>\n",
       "      <td>0.0</td>\n",
       "    </tr>\n",
       "  </tbody>\n",
       "</table>\n",
       "</div>"
      ],
      "text/plain": [
       "   cylinders  displacement  horsepower    weight  acceleration  model_year\n",
       "0        1.0      0.617571    0.456522  0.536150      0.238095         0.0\n",
       "1        1.0      0.728682    0.646739  0.589736      0.208333         0.0\n",
       "2        1.0      0.645995    0.565217  0.516870      0.178571         0.0\n",
       "3        1.0      0.609819    0.565217  0.516019      0.238095         0.0\n",
       "4        1.0      0.604651    0.510870  0.520556      0.148810         0.0"
      ]
     },
     "execution_count": 5,
     "metadata": {},
     "output_type": "execute_result"
    }
   ],
   "source": [
    "pd.DataFrame(x_data, columns=['cylinders', 'displacement', 'horsepower', 'weight', 'acceleration', 'model_year']).head()"
   ]
  },
  {
   "cell_type": "code",
   "execution_count": 6,
   "metadata": {},
   "outputs": [
    {
     "name": "stdout",
     "output_type": "stream",
     "text": [
      "(392, 6)\n",
      "(392,)\n"
     ]
    }
   ],
   "source": [
    "print(x_data.shape)\n",
    "print(y_data.shape)"
   ]
  },
  {
   "cell_type": "code",
   "execution_count": 7,
   "metadata": {},
   "outputs": [],
   "source": [
    "_x = tf.placeholder(shape=[None, 6], dtype=tf.float32)\n",
    "_y = tf.placeholder(shape=[None, 1], dtype=tf.float32)\n",
    "_w = tf.Variable(tf.random_normal(shape=[6, 1]), dtype=tf.float32)\n",
    "_b = tf.Variable(tf.zeros([1]), dtype=tf.float32)\n",
    "prediction = tf.matmul(_x, _w) + _b\n",
    "loss = tf.reduce_mean(tf.square(_y - prediction))\n",
    "optimizer = tf.train.GradientDescentOptimizer(0.001).minimize(loss)"
   ]
  },
  {
   "cell_type": "code",
   "execution_count": 8,
   "metadata": {
    "scrolled": false
   },
   "outputs": [
    {
     "name": "stdout",
     "output_type": "stream",
     "text": [
      "Epoch  0\n",
      "L:  468.90442\n",
      "W:  [[ 1.0919304 ]\n",
      " [-0.07876312]\n",
      " [ 0.2290529 ]\n",
      " [-0.12914935]\n",
      " [ 1.6769499 ]\n",
      " [ 0.42366618]]\n",
      "B:  [1.7806185]\n",
      "\n",
      "\n",
      "\n",
      "Epoch  100\n",
      "L:  20.826235\n",
      "W:  [[-2.2017024 ]\n",
      " [-3.814054  ]\n",
      " [-0.88526344]\n",
      " [-3.0358438 ]\n",
      " [ 9.722444  ]\n",
      " [11.008479  ]]\n",
      "B:  [16.912552]\n",
      "\n",
      "\n",
      "\n",
      "Epoch  200\n",
      "L:  17.400387\n",
      "W:  [[-3.3018277]\n",
      " [-4.881126 ]\n",
      " [-1.0560659]\n",
      " [-5.119504 ]\n",
      " [ 9.352103 ]\n",
      " [10.720386 ]]\n",
      "B:  [19.13059]\n",
      "\n",
      "\n",
      "\n",
      "Epoch  300\n",
      "L:  16.069944\n",
      "W:  [[-3.444295  ]\n",
      " [-5.131102  ]\n",
      " [-0.79135275]\n",
      " [-6.4863067 ]\n",
      " [ 8.448825  ]\n",
      " [10.033181  ]]\n",
      "B:  [20.544819]\n",
      "\n",
      "\n",
      "\n",
      "Epoch  400\n",
      "L:  15.159511\n",
      "W:  [[-3.4094136]\n",
      " [-5.2198787]\n",
      " [-0.5255082]\n",
      " [-7.643868 ]\n",
      " [ 7.5240197]\n",
      " [ 9.539133 ]]\n",
      "B:  [21.626396]\n",
      "\n",
      "\n",
      "\n",
      "Epoch  500\n",
      "L:  14.487652\n",
      "W:  [[-3.3137405 ]\n",
      " [-5.2455816 ]\n",
      " [-0.30484098]\n",
      " [-8.674879  ]\n",
      " [ 6.6582403 ]\n",
      " [ 9.222469  ]]\n",
      "B:  [22.495375]\n",
      "\n",
      "\n",
      "\n",
      "Epoch  600\n",
      "L:  13.973847\n",
      "W:  [[-3.1862755]\n",
      " [-5.232653 ]\n",
      " [-0.1288994]\n",
      " [-9.605235 ]\n",
      " [ 5.868854 ]\n",
      " [ 9.025309 ]]\n",
      "B:  [23.209415]\n",
      "\n",
      "\n",
      "\n",
      "Epoch  700\n",
      "L:  13.572246\n",
      "W:  [[-3.0405550e+00]\n",
      " [-5.1926055e+00]\n",
      " [ 8.0408286e-03]\n",
      " [-1.0450292e+01]\n",
      " [ 5.1590991e+00]\n",
      " [ 8.9048834e+00]]\n",
      "B:  [23.805412]\n",
      "\n",
      "\n",
      "\n",
      "Epoch  800\n",
      "L:  13.253797\n",
      "W:  [[ -2.8851252 ]\n",
      " [ -5.1327276 ]\n",
      " [  0.11176767]\n",
      " [-11.221344  ]\n",
      " [  4.526742  ]\n",
      " [  8.833111  ]]\n",
      "B:  [24.309153]\n",
      "\n",
      "\n",
      "\n",
      "Epoch  900\n",
      "L:  12.998638\n",
      "W:  [[ -2.725718 ]\n",
      " [ -5.05806  ]\n",
      " [  0.1875353]\n",
      " [-11.927507 ]\n",
      " [  3.966999 ]\n",
      " [  8.791976 ]]\n",
      "B:  [24.73914]\n",
      "\n",
      "\n",
      "\n",
      "Epoch  1000\n",
      "L:  12.794321\n",
      "W:  [[ -2.5678754 ]\n",
      " [ -4.9730873 ]\n",
      " [  0.23952262]\n",
      " [-12.569972  ]\n",
      " [  3.478475  ]\n",
      " [  8.770139  ]]\n",
      "B:  [25.105633]\n",
      "\n",
      "\n",
      "\n"
     ]
    }
   ],
   "source": [
    "epochs = 1000\n",
    "batchSize = 10\n",
    "feedDictTest = {_x: x_data, _y: np.transpose([y_data])}\n",
    "\n",
    "losses = []\n",
    "weights = []\n",
    "biases = []\n",
    "\n",
    "with tf.Session() as sess:\n",
    "    sess.run(tf.global_variables_initializer())\n",
    "    \n",
    "    prePred = sess.run([prediction], feed_dict=feedDictTest)\n",
    "    \n",
    "    for _ in range(epochs):\n",
    "        \n",
    "        currentBatch = 0\n",
    "        while currentBatch < len(x_data):\n",
    "            batchX = x_data[currentBatch:currentBatch+batchSize]\n",
    "            batchY = y_data[currentBatch:currentBatch+batchSize]\n",
    "            currentBatch += batchSize\n",
    "            sess.run([optimizer], feed_dict={_x: batchX, _y: np.transpose([batchY])})\n",
    "            \n",
    "        l, w, b = sess.run([loss, _w, _b], feed_dict=feedDictTest)\n",
    "        losses.append(l)\n",
    "        weights.append(w)\n",
    "        biases.append(b)\n",
    "        \n",
    "        if _ % 100 == 0:\n",
    "            print('Epoch ', _)\n",
    "            print('L: ', l)\n",
    "            print('W: ', w)\n",
    "            print('B: ', b)\n",
    "            print('\\n'*2)\n",
    "            \n",
    "    print('Epoch ', epochs)\n",
    "    print('L: ', l)\n",
    "    print('W: ', w)\n",
    "    print('B: ', b)\n",
    "    print('\\n'*2)\n",
    "    \n",
    "    postPred = sess.run([prediction], feed_dict=feedDictTest)"
   ]
  },
  {
   "cell_type": "code",
   "execution_count": 9,
   "metadata": {},
   "outputs": [
    {
     "name": "stdout",
     "output_type": "stream",
     "text": [
      "Pre Train Loss:  23.690765974404556\n",
      "Post Train Loss:  2.765570222601599\n"
     ]
    }
   ],
   "source": [
    "print('Pre Train Loss: ', mean_absolute_error(y_true=y_data, y_pred=np.array(prePred).reshape(-1)))\n",
    "print('Post Train Loss: ', mean_absolute_error(y_true=y_data, y_pred=np.array(postPred).reshape(-1)))"
   ]
  },
  {
   "cell_type": "code",
   "execution_count": 10,
   "metadata": {
    "scrolled": true
   },
   "outputs": [
    {
     "data": {
      "text/plain": [
       "<matplotlib.axes._subplots.AxesSubplot at 0x11779a8d0>"
      ]
     },
     "execution_count": 10,
     "metadata": {},
     "output_type": "execute_result"
    },
    {
     "data": {
      "image/png": "[encoded data removed]",
      "text/plain": [
       "<Figure size 432x288 with 1 Axes>"
      ]
     },
     "metadata": {},
     "output_type": "display_data"
    }
   ],
   "source": [
    "data.iloc[:100].plot('mpg', 'horsepower', kind='scatter')"
   ]
  },
  {
   "cell_type": "code",
   "execution_count": 11,
   "metadata": {},
   "outputs": [
    {
     "data": {
      "text/plain": [
       "Text(0,0.5,'Loss')"
      ]
     },
     "execution_count": 11,
     "metadata": {},
     "output_type": "execute_result"
    },
    {
     "data": {
      "image/png": "[encoded data removed]",
      "text/plain": [
       "<Figure size 432x288 with 1 Axes>"
      ]
     },
     "metadata": {},
     "output_type": "display_data"
    }
   ],
   "source": [
    "plt.plot(range(epochs), losses)\n",
    "plt.xlabel('Epoch')\n",
    "plt.ylabel('Loss')"
   ]
  },
  {
   "cell_type": "code",
   "execution_count": 12,
   "metadata": {},
   "outputs": [
    {
     "data": {
      "text/plain": [
       "Text(0,0.5,'Weight [Horsepower]')"
      ]
     },
     "execution_count": 12,
     "metadata": {},
     "output_type": "execute_result"
    },
    {
     "data": {
      "image/png": "[encoded data removed]",
      "text/plain": [
       "<Figure size 432x288 with 1 Axes>"
      ]
     },
     "metadata": {},
     "output_type": "display_data"
    }
   ],
   "source": [
    "plt.plot(range(epochs), np.array(weights)[:, 2])\n",
    "plt.xlabel('Epoch')\n",
    "plt.ylabel('Weight [Horsepower]')"
   ]
  },
  {
   "cell_type": "code",
   "execution_count": 13,
   "metadata": {},
   "outputs": [
    {
     "data": {
      "text/plain": [
       "Text(0,0.5,'Bias')"
      ]
     },
     "execution_count": 13,
     "metadata": {},
     "output_type": "execute_result"
    },
    {
     "data": {
      "image/png": "[encoded data removed]",
      "text/plain": [
       "<Figure size 432x288 with 1 Axes>"
      ]
     },
     "metadata": {},
     "output_type": "display_data"
    }
   ],
   "source": [
    "plt.plot(range(epochs), biases)\n",
    "plt.xlabel('Epoch')\n",
    "plt.ylabel('Bias')"
   ]
  },
  {
   "cell_type": "code",
   "execution_count": null,
   "metadata": {},
   "outputs": [],
   "source": []
  }
 ],
 "metadata": {
  "kernelspec": {
   "display_name": "Python 3",
   "language": "python",
   "name": "python3"
  },
  "language_info": {
   "codemirror_mode": {
    "name": "ipython",
    "version": 3
   },
   "file_extension": ".py",
   "mimetype": "text/x-python",
   "name": "python",
   "nbconvert_exporter": "python",
   "pygments_lexer": "ipython3",
   "version": "3.6.5"
  }
 },
 "nbformat": 4,
 "nbformat_minor": 2
}
