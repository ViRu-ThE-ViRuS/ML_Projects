{
 "cells": [
  {
   "cell_type": "code",
   "execution_count": 1,
   "metadata": {},
   "outputs": [
    {
     "name": "stderr",
     "output_type": "stream",
     "text": [
      "/usr/local/lib/python3.6/site-packages/h5py/__init__.py:36: FutureWarning: Conversion of the second argument of issubdtype from `float` to `np.floating` is deprecated. In future, it will be treated as `np.float64 == np.dtype(float).type`.\n",
      "  from ._conv import register_converters as _register_converters\n"
     ]
    }
   ],
   "source": [
    "import numpy as np\n",
    "import pandas as pd\n",
    "from sklearn.metrics import mean_absolute_error\n",
    "import tensorflow as tf\n",
    "import matplotlib.pyplot as plt\n",
    "%matplotlib inline"
   ]
  },
  {
   "cell_type": "code",
   "execution_count": 2,
   "metadata": {},
   "outputs": [],
   "source": [
    "variance = 1\n",
    "w = np.array([2, 3])\n",
    "b = 5\n",
    "\n",
    "x_data = np.array([[np.random.randint(100), np.random.randint(10)] for _ in range(10000)])\n",
    "y_data = np.array([np.matmul(w, x) + b + (np.random.random() * np.random.randint(variance)) for x in x_data])"
   ]
  },
  {
   "cell_type": "code",
   "execution_count": 3,
   "metadata": {},
   "outputs": [
    {
     "data": {
      "text/html": [
       "<div>\n",
       "<style scoped>\n",
       "    .dataframe tbody tr th:only-of-type {\n",
       "        vertical-align: middle;\n",
       "    }\n",
       "\n",
       "    .dataframe tbody tr th {\n",
       "        vertical-align: top;\n",
       "    }\n",
       "\n",
       "    .dataframe thead th {\n",
       "        text-align: right;\n",
       "    }\n",
       "</style>\n",
       "<table border=\"1\" class=\"dataframe\">\n",
       "  <thead>\n",
       "    <tr style=\"text-align: right;\">\n",
       "      <th></th>\n",
       "      <th>x1</th>\n",
       "      <th>x2</th>\n",
       "      <th>y</th>\n",
       "    </tr>\n",
       "  </thead>\n",
       "  <tbody>\n",
       "    <tr>\n",
       "      <th>0</th>\n",
       "      <td>43</td>\n",
       "      <td>4</td>\n",
       "      <td>103.0</td>\n",
       "    </tr>\n",
       "    <tr>\n",
       "      <th>1</th>\n",
       "      <td>48</td>\n",
       "      <td>5</td>\n",
       "      <td>116.0</td>\n",
       "    </tr>\n",
       "    <tr>\n",
       "      <th>2</th>\n",
       "      <td>51</td>\n",
       "      <td>6</td>\n",
       "      <td>125.0</td>\n",
       "    </tr>\n",
       "    <tr>\n",
       "      <th>3</th>\n",
       "      <td>38</td>\n",
       "      <td>9</td>\n",
       "      <td>108.0</td>\n",
       "    </tr>\n",
       "    <tr>\n",
       "      <th>4</th>\n",
       "      <td>18</td>\n",
       "      <td>6</td>\n",
       "      <td>59.0</td>\n",
       "    </tr>\n",
       "  </tbody>\n",
       "</table>\n",
       "</div>"
      ],
      "text/plain": [
       "   x1  x2      y\n",
       "0  43   4  103.0\n",
       "1  48   5  116.0\n",
       "2  51   6  125.0\n",
       "3  38   9  108.0\n",
       "4  18   6   59.0"
      ]
     },
     "execution_count": 3,
     "metadata": {},
     "output_type": "execute_result"
    }
   ],
   "source": [
    "df = pd.DataFrame({'x1': x_data[:, 0], 'x2': x_data[:, 1], 'y': y_data})\n",
    "df.head()"
   ]
  },
  {
   "cell_type": "code",
   "execution_count": 4,
   "metadata": {},
   "outputs": [
    {
     "data": {
      "text/plain": [
       "<matplotlib.axes._subplots.AxesSubplot at 0x1159aad68>"
      ]
     },
     "execution_count": 4,
     "metadata": {},
     "output_type": "execute_result"
    },
    {
     "data": {
      "image/png": "[encoded data removed]",
      "text/plain": [
       "<Figure size 432x288 with 1 Axes>"
      ]
     },
     "metadata": {},
     "output_type": "display_data"
    }
   ],
   "source": [
    "df.iloc[:100].plot('x1', 'y', kind='scatter')"
   ]
  },
  {
   "cell_type": "code",
   "execution_count": 5,
   "metadata": {},
   "outputs": [],
   "source": [
    "_x = tf.placeholder(shape=[None, 2], dtype=tf.float32)\n",
    "_y = tf.placeholder(shape=[None, 1], dtype=tf.float32)\n",
    "\n",
    "_w = tf.Variable(tf.random_normal([2, 1]), dtype=tf.float32)\n",
    "_b = tf.Variable(np.random.random(), dtype=tf.float32)\n",
    "\n",
    "prediction = tf.matmul(_x, _w) + _b\n",
    "loss = tf.reduce_mean(tf.square(_y-prediction))\n",
    "optimizer = tf.train.GradientDescentOptimizer(0.0002).minimize(loss)"
   ]
  },
  {
   "cell_type": "code",
   "execution_count": 6,
   "metadata": {},
   "outputs": [
    {
     "name": "stdout",
     "output_type": "stream",
     "text": [
      "Epoch  0\n",
      "Loss:  71.72509\n",
      "W:  [2.2131095] [2.2131095]\n",
      "b:  0.5533407\n",
      "\n",
      "\n",
      "\n",
      "Epoch  100\n",
      "Loss:  2.209381\n",
      "W:  [2.0332642] [2.0332642]\n",
      "b:  1.2408015\n",
      "\n",
      "\n",
      "\n",
      "Epoch  200\n",
      "Loss:  1.7245383\n",
      "W:  [2.0293846] [2.0293846]\n",
      "b:  1.6787938\n",
      "\n",
      "\n",
      "\n",
      "Epoch  300\n",
      "Loss:  1.3460956\n",
      "W:  [2.0259612] [2.0259612]\n",
      "b:  2.0657501\n",
      "\n",
      "\n",
      "\n",
      "Epoch  400\n",
      "Loss:  1.0507053\n",
      "W:  [2.0229363] [2.0229363]\n",
      "b:  2.4076169\n",
      "\n",
      "\n",
      "\n",
      "Epoch  500\n",
      "Loss:  0.8201303\n",
      "W:  [2.0202641] [2.0202641]\n",
      "b:  2.7096584\n",
      "\n",
      "\n",
      "\n",
      "Epoch  600\n",
      "Loss:  0.64015585\n",
      "W:  [2.0179033] [2.0179033]\n",
      "b:  2.9765048\n",
      "\n",
      "\n",
      "\n",
      "Epoch  700\n",
      "Loss:  0.49967548\n",
      "W:  [2.0158172] [2.0158172]\n",
      "b:  3.2122643\n",
      "\n",
      "\n",
      "\n",
      "Epoch  800\n",
      "Loss:  0.39002475\n",
      "W:  [2.0139742] [2.0139742]\n",
      "b:  3.4205558\n",
      "\n",
      "\n",
      "\n",
      "Epoch  900\n",
      "Loss:  0.30443448\n",
      "W:  [2.012346] [2.012346]\n",
      "b:  3.6045787\n",
      "\n",
      "\n",
      "\n",
      "Epoch  1000\n",
      "Loss:  0.23762685\n",
      "W:  [2.0109076] [2.0109076]\n",
      "b:  3.7671573\n",
      "\n",
      "\n",
      "\n",
      "Epoch  1100\n",
      "Loss:  0.18548074\n",
      "W:  [2.0096369] [2.0096369]\n",
      "b:  3.9107969\n",
      "\n",
      "\n",
      "\n",
      "Epoch  1200\n",
      "Loss:  0.14477745\n",
      "W:  [2.008514] [2.008514]\n",
      "b:  4.037702\n",
      "\n",
      "\n",
      "\n",
      "Epoch  1300\n",
      "Loss:  0.113008104\n",
      "W:  [2.0075219] [2.0075219]\n",
      "b:  4.1498194\n",
      "\n",
      "\n",
      "\n",
      "Epoch  1400\n",
      "Loss:  0.088207595\n",
      "W:  [2.0066457] [2.0066457]\n",
      "b:  4.2488747\n",
      "\n",
      "\n",
      "\n",
      "Epoch  1500\n",
      "Loss:  0.068851486\n",
      "W:  [2.0058713] [2.0058713]\n",
      "b:  4.336388\n",
      "\n",
      "\n",
      "\n",
      "Epoch  1600\n",
      "Loss:  0.053741302\n",
      "W:  [2.0051873] [2.0051873]\n",
      "b:  4.413708\n",
      "\n",
      "\n",
      "\n",
      "Epoch  1700\n",
      "Loss:  0.041947614\n",
      "W:  [2.0045831] [2.0045831]\n",
      "b:  4.482017\n",
      "\n",
      "\n",
      "\n",
      "Epoch  1800\n",
      "Loss:  0.032742973\n",
      "W:  [2.0040488] [2.0040488]\n",
      "b:  4.5423694\n",
      "\n",
      "\n",
      "\n",
      "Epoch  1900\n",
      "Loss:  0.02555651\n",
      "W:  [2.0035772] [2.0035772]\n",
      "b:  4.5956917\n",
      "\n",
      "\n",
      "\n",
      "Epoch  2000\n",
      "Loss:  0.019997645\n",
      "W:  [2.0031643] [3.030624]\n",
      "b:  4.6423564\n",
      "\n",
      "\n",
      "\n"
     ]
    }
   ],
   "source": [
    "batchSize = 500\n",
    "epochs = 2000\n",
    "ls = []\n",
    "ws = []\n",
    "bs = []\n",
    "\n",
    "with tf.Session() as sess:\n",
    "    sess.run(tf.global_variables_initializer())\n",
    "    \n",
    "    pre_pred = sess.run([prediction], feed_dict={_x: x_data, _y: np.transpose([y_data])})\n",
    "    \n",
    "    for _ in range(epochs):\n",
    "        \n",
    "        currentBatch = 0\n",
    "        while currentBatch <= len(x_data):\n",
    "            batchX = x_data[currentBatch:currentBatch+batchSize]\n",
    "            batchY = y_data[currentBatch:currentBatch+batchSize]\n",
    "            currentBatch += batchSize\n",
    "            sess.run([optimizer], feed_dict={_x: batchX, _y: np.transpose([batchY])})\n",
    "        \n",
    "        t1, t2, t3 = sess.run([loss, _w, _b], feed_dict={_x: x_data, _y: np.transpose([y_data])})\n",
    "        ls.append(t1)\n",
    "        ws.append(t2)\n",
    "        bs.append(t3)\n",
    "        \n",
    "        if _ % 100 == 0:\n",
    "            print('Epoch ', _)\n",
    "            print('Loss: ', ls[-1])\n",
    "            print('W: ', ws[-1][0], ws[-1][0])\n",
    "            print('b: ', bs[-1])\n",
    "            print('\\n'*2)\n",
    "            \n",
    "    \n",
    "    print('Epoch ', epochs)\n",
    "    print('Loss: ', ls[-1])\n",
    "    print('W: ', ws[-1][0], ws[-1][1])\n",
    "    print('b: ', bs[-1])\n",
    "    print('\\n'*2)   \n",
    "    \n",
    "    post_pred = sess.run([prediction], feed_dict={_x: x_data, _y: np.transpose([y_data])})"
   ]
  },
  {
   "cell_type": "code",
   "execution_count": 7,
   "metadata": {},
   "outputs": [
    {
     "data": {
      "text/plain": [
       "<matplotlib.legend.Legend at 0x115c13ba8>"
      ]
     },
     "execution_count": 7,
     "metadata": {},
     "output_type": "execute_result"
    },
    {
     "data": {
      "image/png": "[encoded data removed]",
      "text/plain": [
       "<Figure size 432x288 with 1 Axes>"
      ]
     },
     "metadata": {},
     "output_type": "display_data"
    }
   ],
   "source": [
    "plt.plot([x_data[0, 0], x_data[100, 0]], [y_data[0], y_data[100]])\n",
    "plt.plot([x_data[0, 0], x_data[100, 0]], [np.array(post_pred).reshape(-1)[0], np.array(post_pred).reshape(-1)[100]])\n",
    "plt.legend(['BF', 'T LR', 'NT LR'])"
   ]
  },
  {
   "cell_type": "code",
   "execution_count": 8,
   "metadata": {},
   "outputs": [
    {
     "name": "stdout",
     "output_type": "stream",
     "text": [
      "Initial Loss:  161.12128582738043\n",
      "Final Loss:  0.11526825456619262\n"
     ]
    }
   ],
   "source": [
    "print('Initial Loss: ', mean_absolute_error(y_pred=np.array(pre_pred).reshape(-1), y_true=y_data))\n",
    "print('Final Loss: ', mean_absolute_error(y_pred=np.array(post_pred).reshape(-1), y_true=y_data))"
   ]
  }
 ],
 "metadata": {
  "kernelspec": {
   "display_name": "Python 3",
   "language": "python",
   "name": "python3"
  },
  "language_info": {
   "codemirror_mode": {
    "name": "ipython",
    "version": 3
   },
   "file_extension": ".py",
   "mimetype": "text/x-python",
   "name": "python",
   "nbconvert_exporter": "python",
   "pygments_lexer": "ipython3",
   "version": "3.6.5"
  }
 },
 "nbformat": 4,
 "nbformat_minor": 2
}
