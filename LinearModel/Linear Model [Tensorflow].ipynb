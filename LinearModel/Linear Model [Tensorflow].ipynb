{
 "cells": [
  {
   "cell_type": "code",
   "execution_count": 1,
   "metadata": {},
   "outputs": [
    {
     "name": "stderr",
     "output_type": "stream",
     "text": [
      "/usr/local/lib/python3.6/site-packages/h5py/__init__.py:36: FutureWarning: Conversion of the second argument of issubdtype from `float` to `np.floating` is deprecated. In future, it will be treated as `np.float64 == np.dtype(float).type`.\n",
      "  from ._conv import register_converters as _register_converters\n"
     ]
    }
   ],
   "source": [
    "import matplotlib.pyplot as plt\n",
    "import numpy as np\n",
    "import tensorflow as tf\n",
    "import pandas as pd\n",
    "from sklearn.metrics import mean_absolute_error"
   ]
  },
  {
   "cell_type": "code",
   "execution_count": 2,
   "metadata": {},
   "outputs": [],
   "source": [
    "%matplotlib inline"
   ]
  },
  {
   "cell_type": "code",
   "execution_count": 13,
   "metadata": {},
   "outputs": [],
   "source": [
    "W = 5\n",
    "b = 3\n",
    "variance = 2\n",
    "epochs = 500\n",
    "batch_size = 100\n",
    "\n",
    "x_data = [np.random.randint(100) for i in range(10000)]\n",
    "y_data = [i * W + b + np.random.uniform(low=-5, high=5) for i in x_data]\n",
    "\n",
    "df = pd.DataFrame({'x': x_data, 'y': y_data})"
   ]
  },
  {
   "cell_type": "code",
   "execution_count": 14,
   "metadata": {},
   "outputs": [
    {
     "data": {
      "text/html": [
       "<div>\n",
       "<style scoped>\n",
       "    .dataframe tbody tr th:only-of-type {\n",
       "        vertical-align: middle;\n",
       "    }\n",
       "\n",
       "    .dataframe tbody tr th {\n",
       "        vertical-align: top;\n",
       "    }\n",
       "\n",
       "    .dataframe thead th {\n",
       "        text-align: right;\n",
       "    }\n",
       "</style>\n",
       "<table border=\"1\" class=\"dataframe\">\n",
       "  <thead>\n",
       "    <tr style=\"text-align: right;\">\n",
       "      <th></th>\n",
       "      <th>x</th>\n",
       "      <th>y</th>\n",
       "    </tr>\n",
       "  </thead>\n",
       "  <tbody>\n",
       "    <tr>\n",
       "      <th>0</th>\n",
       "      <td>38</td>\n",
       "      <td>194.539314</td>\n",
       "    </tr>\n",
       "    <tr>\n",
       "      <th>1</th>\n",
       "      <td>3</td>\n",
       "      <td>18.870125</td>\n",
       "    </tr>\n",
       "    <tr>\n",
       "      <th>2</th>\n",
       "      <td>12</td>\n",
       "      <td>58.348410</td>\n",
       "    </tr>\n",
       "    <tr>\n",
       "      <th>3</th>\n",
       "      <td>92</td>\n",
       "      <td>458.002036</td>\n",
       "    </tr>\n",
       "    <tr>\n",
       "      <th>4</th>\n",
       "      <td>26</td>\n",
       "      <td>131.962605</td>\n",
       "    </tr>\n",
       "  </tbody>\n",
       "</table>\n",
       "</div>"
      ],
      "text/plain": [
       "    x           y\n",
       "0  38  194.539314\n",
       "1   3   18.870125\n",
       "2  12   58.348410\n",
       "3  92  458.002036\n",
       "4  26  131.962605"
      ]
     },
     "execution_count": 14,
     "metadata": {},
     "output_type": "execute_result"
    }
   ],
   "source": [
    "df.head()"
   ]
  },
  {
   "cell_type": "code",
   "execution_count": 15,
   "metadata": {},
   "outputs": [
    {
     "data": {
      "text/plain": [
       "<matplotlib.axes._subplots.AxesSubplot at 0x11c442518>"
      ]
     },
     "execution_count": 15,
     "metadata": {},
     "output_type": "execute_result"
    },
    {
     "data": {
      "image/png": "[encoded data removed]",
      "text/plain": [
       "<Figure size 432x288 with 1 Axes>"
      ]
     },
     "metadata": {},
     "output_type": "display_data"
    }
   ],
   "source": [
    "df.iloc[:100].plot('x', 'y', kind='scatter')"
   ]
  },
  {
   "cell_type": "code",
   "execution_count": 16,
   "metadata": {},
   "outputs": [],
   "source": [
    "x = tf.placeholder(dtype=tf.float32)\n",
    "y = tf.placeholder(dtype=tf.float32)\n",
    "_W = tf.Variable(np.random.random(), dtype=tf.float32)\n",
    "_b = tf.Variable(np.random.random(), dtype=tf.float32)"
   ]
  },
  {
   "cell_type": "code",
   "execution_count": 17,
   "metadata": {},
   "outputs": [],
   "source": [
    "prediction = tf.add(tf.multiply(x, _W), _b)\n",
    "loss = tf.losses.mean_squared_error(labels=y, predictions=prediction)\n",
    "optimizer = tf.train.GradientDescentOptimizer(0.0001).minimize(loss)"
   ]
  },
  {
   "cell_type": "code",
   "execution_count": 18,
   "metadata": {
    "scrolled": false
   },
   "outputs": [
    {
     "name": "stdout",
     "output_type": "stream",
     "text": [
      "Epoch 0\n",
      "Loss: 9.434721946716309\n",
      "W: 5.032373428344727\n",
      "b: 0.968461275100708\n",
      "\n",
      "\n",
      "\n",
      "Epoch 100\n",
      "Loss: 8.79147720336914\n",
      "W: 5.02061128616333\n",
      "b: 1.7642971277236938\n",
      "\n",
      "\n",
      "\n",
      "Epoch 200\n",
      "Loss: 8.559149742126465\n",
      "W: 5.013526439666748\n",
      "b: 2.2436487674713135\n",
      "\n",
      "\n",
      "\n",
      "Epoch 300\n",
      "Loss: 8.47547721862793\n",
      "W: 5.00925874710083\n",
      "b: 2.5323944091796875\n",
      "\n",
      "\n",
      "\n",
      "Epoch 400\n",
      "Loss: 8.44550609588623\n",
      "W: 5.006688594818115\n",
      "b: 2.706320285797119\n",
      "\n",
      "\n",
      "\n",
      "FINAL Epoch 500\n",
      "Loss: 8.434917449951172\n",
      "W: 5.005152225494385\n",
      "b: 2.810270071029663\n",
      "\n",
      "\n",
      "\n"
     ]
    }
   ],
   "source": [
    "losses = list()\n",
    "weights = list()\n",
    "biases = list()\n",
    "\n",
    "with tf.Session() as sess:\n",
    "    sess.run(tf.global_variables_initializer())\n",
    "    \n",
    "    pre_pred = sess.run([prediction], feed_dict={x: x_data})\n",
    "    \n",
    "    for _ in range(epochs):\n",
    "        \n",
    "        currentBatch = 0\n",
    "        while currentBatch <= len(x_data):\n",
    "            batchX = x_data[currentBatch:currentBatch+batch_size]\n",
    "            batchY = y_data[currentBatch:currentBatch+batch_size]\n",
    "            currentBatch += batch_size\n",
    "            \n",
    "            sess.run([optimizer], feed_dict={x: batchX, y: batchY})\n",
    "        \n",
    "        __l, __w, __b = sess.run([loss, _W, _b], feed_dict={x: x_data, y: y_data})\n",
    "        \n",
    "        if _ % 100 == 0:\n",
    "            print('Epoch {}'.format(_))\n",
    "            print('Loss: {}'.format(__l))\n",
    "            print('W: {}'.format(__w))\n",
    "            print('b: {}'.format(__b))\n",
    "            print('\\n'*2)\n",
    "            \n",
    "        losses.append(__l)\n",
    "        weights.append(__w)\n",
    "        biases.append(__b)\n",
    "        \n",
    "    print('FINAL Epoch {}'.format(epochs))\n",
    "    print('Loss: {}'.format(__l))\n",
    "    print('W: {}'.format(__w))\n",
    "    print('b: {}'.format(__b))\n",
    "    print('\\n'*2)\n",
    "    \n",
    "    post_pred = sess.run([prediction], feed_dict={x: x_data})"
   ]
  },
  {
   "cell_type": "code",
   "execution_count": 19,
   "metadata": {},
   "outputs": [
    {
     "data": {
      "text/plain": [
       "Text(0,0.5,'Loss')"
      ]
     },
     "execution_count": 19,
     "metadata": {},
     "output_type": "execute_result"
    },
    {
     "data": {
      "image/png": "[encoded data removed]",
      "text/plain": [
       "<Figure size 432x288 with 1 Axes>"
      ]
     },
     "metadata": {},
     "output_type": "display_data"
    }
   ],
   "source": [
    "plt.plot(range(epochs), losses)\n",
    "plt.xlabel('Epoch')\n",
    "plt.ylabel('Loss')"
   ]
  },
  {
   "cell_type": "code",
   "execution_count": 20,
   "metadata": {},
   "outputs": [
    {
     "data": {
      "text/plain": [
       "Text(0,0.5,'Weight')"
      ]
     },
     "execution_count": 20,
     "metadata": {},
     "output_type": "execute_result"
    },
    {
     "data": {
      "image/png": "[encoded data removed]",
      "text/plain": [
       "<Figure size 432x288 with 1 Axes>"
      ]
     },
     "metadata": {},
     "output_type": "display_data"
    }
   ],
   "source": [
    "plt.plot(range(epochs), weights)\n",
    "plt.xlabel('Epoch')\n",
    "plt.ylabel('Weight')"
   ]
  },
  {
   "cell_type": "code",
   "execution_count": 21,
   "metadata": {
    "scrolled": true
   },
   "outputs": [
    {
     "data": {
      "text/plain": [
       "Text(0,0.5,'Bias')"
      ]
     },
     "execution_count": 21,
     "metadata": {},
     "output_type": "execute_result"
    },
    {
     "data": {
      "image/png": "[encoded data removed]",
      "text/plain": [
       "<Figure size 432x288 with 1 Axes>"
      ]
     },
     "metadata": {},
     "output_type": "display_data"
    }
   ],
   "source": [
    "plt.plot(range(epochs), biases)\n",
    "plt.xlabel('Epoch')\n",
    "plt.ylabel('Bias')"
   ]
  },
  {
   "cell_type": "code",
   "execution_count": 22,
   "metadata": {},
   "outputs": [
    {
     "name": "stdout",
     "output_type": "stream",
     "text": [
      "Error Loss Before Training:  222.80032271446706\n",
      "Error Loss After Training:  2.5210474001398118\n"
     ]
    }
   ],
   "source": [
    "print('Error Loss Before Training: ', mean_absolute_error(y_pred=np.array(pre_pred).reshape(-1), y_true=y_data))\n",
    "print('Error Loss After Training: ', mean_absolute_error(y_pred=np.array(post_pred).reshape(-1), y_true=y_data))"
   ]
  },
  {
   "cell_type": "code",
   "execution_count": null,
   "metadata": {},
   "outputs": [],
   "source": []
  }
 ],
 "metadata": {
  "kernelspec": {
   "display_name": "Python 3",
   "language": "python",
   "name": "python3"
  },
  "language_info": {
   "codemirror_mode": {
    "name": "ipython",
    "version": 3
   },
   "file_extension": ".py",
   "mimetype": "text/x-python",
   "name": "python",
   "nbconvert_exporter": "python",
   "pygments_lexer": "ipython3",
   "version": "3.6.5"
  }
 },
 "nbformat": 4,
 "nbformat_minor": 2
}
