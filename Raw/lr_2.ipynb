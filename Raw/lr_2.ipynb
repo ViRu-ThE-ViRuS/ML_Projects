{
 "cells": [
  {
   "cell_type": "code",
   "execution_count": 1,
   "metadata": {},
   "outputs": [],
   "source": [
    "import numpy as np\n",
    "import matplotlib.pyplot as plt\n",
    "from sklearn.datasets import load_iris\n",
    "from sklearn.metrics import f1_score\n",
    "\n",
    "np.random.seed(0)\n",
    "%matplotlib inline"
   ]
  },
  {
   "cell_type": "code",
   "execution_count": 2,
   "metadata": {},
   "outputs": [],
   "source": [
    "iris = load_iris()\n",
    "x = iris.data\n",
    "y = iris.target\n",
    "\n",
    "y = np.array([0 if i <= 1 else 1 for i in y])\n",
    "\n",
    "perm = np.random.permutation(y.size)\n",
    "x = x[perm][:]\n",
    "y = y[perm][:]\n",
    "\n",
    "x = x[:, 2:]\n",
    "y = y.reshape(-1, 1)"
   ]
  },
  {
   "cell_type": "code",
   "execution_count": 3,
   "metadata": {},
   "outputs": [
    {
     "data": {
      "text/plain": [
       "Text(0.5, 1.0, 'sigmoid function')"
      ]
     },
     "execution_count": 3,
     "metadata": {},
     "output_type": "execute_result"
    },
    {
     "data": {
      "image/png": "[encoded data removed]",
      "text/plain": [
       "<Figure size 432x288 with 1 Axes>"
      ]
     },
     "metadata": {},
     "output_type": "display_data"
    }
   ],
   "source": [
    "def sigmoid(x):\n",
    "    return 1/(1+np.exp(-x))\n",
    "\n",
    "plt.style.use('ggplot')\n",
    "plt.plot(np.linspace(-5, 5), sigmoid(np.linspace(-5, 5)))\n",
    "plt.title('sigmoid function')"
   ]
  },
  {
   "cell_type": "code",
   "execution_count": 4,
   "metadata": {},
   "outputs": [],
   "source": [
    "def step(x, y, w, b, lr):\n",
    "    # forward pass using vectorization\n",
    "    z = np.dot(w.T, x) + b\n",
    "    a = sigmoid(z)\n",
    "    \n",
    "    # gradient calculation using vectorization\n",
    "    dz = a - y\n",
    "    dw = np.dot(x, dz.T) * 1/y.size\n",
    "    db = np.sum(dz) * 1/y.size\n",
    "    \n",
    "    # gradient descent update\n",
    "    w = w - lr*dw\n",
    "    b = b - lr*db\n",
    "    \n",
    "    # compute loss\n",
    "    z = np.dot(w.T, x) + b\n",
    "    a = sigmoid(z)\n",
    "    loss = np.mean(-y * np.log(a) - (1-y) * np.log(1-a))\n",
    "    \n",
    "    return w, b, loss"
   ]
  },
  {
   "cell_type": "code",
   "execution_count": 5,
   "metadata": {},
   "outputs": [
    {
     "name": "stdout",
     "output_type": "stream",
     "text": [
      "initial loss: 2.0906723064536377\n",
      "final loss: 0.26222507729669153\n",
      "accuracy score:  0.9387755102040817\n"
     ]
    },
    {
     "data": {
      "image/png": "[encoded data removed]",
      "text/plain": [
       "<Figure size 432x288 with 1 Axes>"
      ]
     },
     "metadata": {},
     "output_type": "display_data"
    }
   ],
   "source": [
    "epochs = 1500\n",
    "lr = 0.05\n",
    "initial_w = np.random.rand(2, 1)\n",
    "initial_b = np.random.rand(1, 1)\n",
    "losses = np.zeros(epochs)\n",
    "\n",
    "w = initial_w \n",
    "b = initial_b\n",
    "for epoch in range(epochs):\n",
    "    w, b, losses[epoch] = step(x.T, y.T, w, b, lr)\n",
    "\n",
    "z = np.dot(w.T, x.T) + b\n",
    "a = sigmoid(z).reshape(-1)\n",
    "a = np.array([0 if i <= 0.5 else 1 for i in a])\n",
    "    \n",
    "print('initial loss: {}\\nfinal loss: {}'.format(losses[0], losses[-1]))\n",
    "print('accuracy score: ', f1_score(a, y))\n",
    "plt.plot(np.arange(epochs), losses)\n",
    "plt.show()"
   ]
  },
  {
   "cell_type": "code",
   "execution_count": null,
   "metadata": {},
   "outputs": [],
   "source": []
  }
 ],
 "metadata": {
  "kernelspec": {
   "display_name": "Python 3",
   "language": "python",
   "name": "python3"
  },
  "language_info": {
   "codemirror_mode": {
    "name": "ipython",
    "version": 3
   },
   "file_extension": ".py",
   "mimetype": "text/x-python",
   "name": "python",
   "nbconvert_exporter": "python",
   "pygments_lexer": "ipython3",
   "version": "3.7.2"
  }
 },
 "nbformat": 4,
 "nbformat_minor": 2
}
