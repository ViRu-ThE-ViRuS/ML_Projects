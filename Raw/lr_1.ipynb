{
 "cells": [
  {
   "cell_type": "code",
   "execution_count": 38,
   "metadata": {},
   "outputs": [],
   "source": [
    "import numpy as np\n",
    "import matplotlib.pyplot as plt\n",
    "\n",
    "%matplotlib inline\n",
    "np.random.seed(0)\n",
    "\n",
    "from sklearn.datasets import load_iris\n",
    "from sklearn.metrics import f1_score\n",
    "iris = load_iris()"
   ]
  },
  {
   "cell_type": "code",
   "execution_count": 42,
   "metadata": {},
   "outputs": [
    {
     "name": "stdout",
     "output_type": "stream",
     "text": [
      "features:  ['sepal length (cm)', 'sepal width (cm)', 'petal length (cm)', 'petal width (cm)']\n"
     ]
    }
   ],
   "source": [
    "x = iris.data\n",
    "y = iris.target\n",
    "\n",
    "y = np.array([0 if i <= 1 else 1 for i in y])\n",
    "\n",
    "perm = np.random.permutation(y.size)\n",
    "x = x[perm][:]\n",
    "y = y[perm][:]\n",
    "\n",
    "# x = x[:, 2:]\n",
    "y = y.reshape(-1, 1)\n",
    "\n",
    "print('features: ', iris.feature_names)"
   ]
  },
  {
   "cell_type": "code",
   "execution_count": 40,
   "metadata": {},
   "outputs": [
    {
     "data": {
      "text/plain": [
       "[<matplotlib.lines.Line2D at 0x121122518>]"
      ]
     },
     "execution_count": 40,
     "metadata": {},
     "output_type": "execute_result"
    },
    {
     "data": {
      "image/png": "[encoded data removed]",
      "text/plain": [
       "<Figure size 432x288 with 1 Axes>"
      ]
     },
     "metadata": {
      "needs_background": "light"
     },
     "output_type": "display_data"
    }
   ],
   "source": [
    "def sigmoid(x):\n",
    "    return 1/(1+np.exp(-x))\n",
    "\n",
    "plt.plot(np.linspace(-5, 5), sigmoid(np.linspace(-5, 5)))"
   ]
  },
  {
   "cell_type": "code",
   "execution_count": 50,
   "metadata": {},
   "outputs": [
    {
     "name": "stdout",
     "output_type": "stream",
     "text": [
      "initial loss:  2.5355779419105438\n",
      "final loss:  0.12701082187448043\n",
      "accuracy score:  0.970873786407767\n"
     ]
    },
    {
     "data": {
      "image/png": "[encoded data removed]",
      "text/plain": [
       "<Figure size 432x288 with 1 Axes>"
      ]
     },
     "metadata": {
      "needs_background": "light"
     },
     "output_type": "display_data"
    }
   ],
   "source": [
    "def step(x, y, w, b, lr):\n",
    "    z = np.dot(w.T, x) + b\n",
    "    a = sigmoid(z)\n",
    "    \n",
    "    dz = a - y\n",
    "    dw = np.dot(x, dz.T) / y.size\n",
    "    db = np.sum(dz) / y.size\n",
    "    \n",
    "    w = w - lr * dw\n",
    "    b = b - lr * db\n",
    "    \n",
    "    z = np.dot(w.T, x) + b\n",
    "    a = sigmoid(z)\n",
    "    loss = np.mean(-y * np.log(a) - (1-y) * np.log(1-a))\n",
    "    \n",
    "    return w, b, loss\n",
    "\n",
    "epochs = 1000\n",
    "lr = 0.1\n",
    "initial_w = np.random.rand(4, 1)\n",
    "initial_b = np.random.rand(1, 1)\n",
    "loss = np.zeros(epochs)\n",
    "\n",
    "w = initial_w\n",
    "b = initial_b\n",
    "for epoch in range(epochs):\n",
    "    w, b, loss[epoch] = step(x.T, y.T, w, b, lr)\n",
    "    \n",
    "print('initial loss: ', loss[0])\n",
    "print('final loss: ', loss[-1])\n",
    "\n",
    "z = np.dot(w.T, x.T) + b\n",
    "a = sigmoid(z).reshape(-1)\n",
    "a = [0 if prob <= 0.5 else 1 for prob in a]\n",
    "\n",
    "print('accuracy score: ', f1_score(a, y))\n",
    "    \n",
    "plt.plot(np.arange(epochs), loss)\n",
    "plt.show()"
   ]
  },
  {
   "cell_type": "code",
   "execution_count": null,
   "metadata": {},
   "outputs": [],
   "source": []
  }
 ],
 "metadata": {
  "kernelspec": {
   "display_name": "Python 3",
   "language": "python",
   "name": "python3"
  },
  "language_info": {
   "codemirror_mode": {
    "name": "ipython",
    "version": 3
   },
   "file_extension": ".py",
   "mimetype": "text/x-python",
   "name": "python",
   "nbconvert_exporter": "python",
   "pygments_lexer": "ipython3",
   "version": "3.7.2"
  }
 },
 "nbformat": 4,
 "nbformat_minor": 2
}
