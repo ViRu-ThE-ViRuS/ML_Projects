{
 "cells": [
  {
   "cell_type": "code",
   "execution_count": 1,
   "metadata": {},
   "outputs": [],
   "source": [
    "import numpy as np\n",
    "import matplotlib.pyplot as plt\n",
    "from sklearn.datasets import load_iris\n",
    "from sklearn.metrics import accuracy_score\n",
    "from sklearn.preprocessing import OneHotEncoder, MinMaxScaler\n",
    "\n",
    "%matplotlib inline\n",
    "np.random.seed(1)  "
   ]
  },
  {
   "cell_type": "code",
   "execution_count": 2,
   "metadata": {},
   "outputs": [
    {
     "name": "stdout",
     "output_type": "stream",
     "text": [
      "(150, 4) (150, 3)\n"
     ]
    }
   ],
   "source": [
    "iris = load_iris()\n",
    "x = iris.data\n",
    "y = iris.target.reshape(-1, 1)\n",
    "\n",
    "perm = np.random.permutation(y.size)\n",
    "x = x[perm][:]\n",
    "y = y[perm][:]\n",
    "\n",
    "encoder = OneHotEncoder(categories='auto', dtype=np.int)\n",
    "y = encoder.fit_transform(y).toarray()\n",
    "\n",
    "scaler = MinMaxScaler()\n",
    "x = scaler.fit_transform(x)\n",
    "\n",
    "print(x.shape, y.shape)"
   ]
  },
  {
   "cell_type": "code",
   "execution_count": 3,
   "metadata": {},
   "outputs": [],
   "source": [
    "class NeuralNetwork():\n",
    "    def __init__(self, x, y, lr, params={}):\n",
    "        self.x = x\n",
    "        self.y = y\n",
    "        self.lr = lr\n",
    "        \n",
    "        self.activation = self.relu if 'activation' in params and params['activation'] == 'relu' \\\n",
    "                              else self.tanh\n",
    "        self.activation_prime = self.relu_prime if 'activation' in params \\\n",
    "                                    and params['activation'] == 'relu' else self.tanh_prime\n",
    "        \n",
    "        self.L = len(params['ln']) if 'ln' in params else 2\n",
    "        self.ln = params['ln'] if 'ln' in params else [4, 8]\n",
    "        \n",
    "        self.w = []\n",
    "        for l in range(self.L):\n",
    "            self.w.append(self.random_initialize(self.ln[l], self.x.shape[0] if l == 0 else self.ln[l-1]))\n",
    "        self.w.append(self.random_initialize(self.y.shape[0], self.ln[-1]))\n",
    "        \n",
    "        self.b = []\n",
    "        for l in range(self.L + 1):\n",
    "            self.b.append(self.random_initialize(1, 1))\n",
    "        \n",
    "        print('total trainable params: ', self.total_trainable_params())\n",
    "        \n",
    "    def random_initialize(self, *args):\n",
    "        return 2 * np.random.rand(*args) - 1\n",
    "        \n",
    "    def sigmoid(self, x):\n",
    "        z = np.exp(x - np.max(x))\n",
    "        return z / z.sum(axis=0)\n",
    "    \n",
    "    def sigmoid_prime(self, x):\n",
    "        return x * (1-x)\n",
    "    \n",
    "    def tanh(self, x):\n",
    "        return np.tanh(x)\n",
    "    \n",
    "    def tanh_prime(self, x):\n",
    "        return 1-(np.tanh(x)**2)\n",
    "    \n",
    "    def relu(self, x):\n",
    "        return x * (x>0)\n",
    "    \n",
    "    def relu_prime(self, x):\n",
    "        return np.where(x > 0, 1.0, 0.0)\n",
    "    \n",
    "    def loss(self, x):\n",
    "        return np.mean(-self.y * np.log(x) - (1-self.y) * np.log(1-x))\n",
    "    \n",
    "    def loss_prime(self, x):\n",
    "        return -(self.y/x) + ((1-self.y)/(1-x))\n",
    "    \n",
    "    def total_trainable_params(self):\n",
    "        total = 0\n",
    "        total += sum([b.size for b in self.b])\n",
    "        total += sum([w.size for w in self.w])\n",
    "        return total\n",
    "    \n",
    "    def forward_pass(self, x, probs=False):\n",
    "        for i in range(self.L):\n",
    "            layer_output = self.activation(np.dot(self.w[i], x if i == 0 else layer_output) + self.b[i])\n",
    "        output = self.sigmoid(np.dot(self.w[-1], layer_output) + self.b[-1])\n",
    "        \n",
    "        if probs:\n",
    "            output = output.T\n",
    "            for i in range(output.shape[0]):\n",
    "                temp = np.zeros(3)\n",
    "                temp[np.argmax(output[i])] = 1\n",
    "                output[i] = temp\n",
    "            \n",
    "            output = output.astype(np.int)\n",
    "        \n",
    "        return output\n",
    "    \n",
    "    def backward_pass(self, epochs):\n",
    "        loss = np.zeros(epochs)\n",
    "        \n",
    "        for epoch in range(epochs):\n",
    "            a = []\n",
    "            for i in range(self.L):\n",
    "                a.append(self.activation(np.dot(self.w[i], self.x if i == 0 else a[-1]) + self.b[i]))\n",
    "            a.append(self.sigmoid(np.dot(self.w[-1], a[-1]) + self.b[-1]))\n",
    "            \n",
    "            loss[epoch] = self.loss(a[-1])\n",
    "            \n",
    "            dw = []\n",
    "            db = []\n",
    "            for i in reversed(range(self.L+1)):\n",
    "                if i != self.L:\n",
    "                    delta = np.dot(self.w[i+1].T, delta) * self.activation_prime(a[i])\n",
    "                else:\n",
    "                    delta = self.loss_prime(a[-1]) * self.sigmoid_prime(a[-1])\n",
    "                \n",
    "                dw.append(np.dot(delta, a[i-1].T if i != 0 else self.x.T) / self.x.shape[1])\n",
    "                db.append(np.mean(delta))\n",
    "                \n",
    "            dw.reverse()\n",
    "            db.reverse()\n",
    "            \n",
    "            for i in range(self.L):\n",
    "                self.w[i] += -self.lr * dw[i]\n",
    "                self.b[i] += -self.lr * db[i]\n",
    "            \n",
    "        return loss"
   ]
  },
  {
   "cell_type": "code",
   "execution_count": 4,
   "metadata": {},
   "outputs": [
    {
     "name": "stdout",
     "output_type": "stream",
     "text": [
      "total trainable params:  75\n",
      "accuracy: 0.9666666666666667\n"
     ]
    },
    {
     "data": {
      "image/png": "[encoded data removed]",
      "text/plain": [
       "<Figure size 432x288 with 1 Axes>"
      ]
     },
     "metadata": {
      "needs_background": "light"
     },
     "output_type": "display_data"
    }
   ],
   "source": [
    "epochs = 5000\n",
    "lr = 0.1\n",
    "nn = NeuralNetwork(x.T, y.T, lr, params={'ln': [4, 8]})\n",
    "losses = nn.backward_pass(epochs)\n",
    "\n",
    "print(f'accuracy: {accuracy_score(nn.forward_pass(x.T, probs=True), y)}')\n",
    "\n",
    "plt.plot(np.arange(epochs), losses)\n",
    "plt.show()"
   ]
  },
  {
   "cell_type": "code",
   "execution_count": null,
   "metadata": {},
   "outputs": [],
   "source": []
  },
  {
   "cell_type": "code",
   "execution_count": null,
   "metadata": {},
   "outputs": [],
   "source": []
  }
 ],
 "metadata": {
  "kernelspec": {
   "display_name": "Python 3",
   "language": "python",
   "name": "python3"
  },
  "language_info": {
   "codemirror_mode": {
    "name": "ipython",
    "version": 3
   },
   "file_extension": ".py",
   "mimetype": "text/x-python",
   "name": "python",
   "nbconvert_exporter": "python",
   "pygments_lexer": "ipython3",
   "version": "3.7.2"
  }
 },
 "nbformat": 4,
 "nbformat_minor": 2
}
