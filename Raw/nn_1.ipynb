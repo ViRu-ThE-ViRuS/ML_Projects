{
 "cells": [
  {
   "cell_type": "code",
   "execution_count": 1,
   "metadata": {},
   "outputs": [],
   "source": [
    "import numpy as np\n",
    "import matplotlib.pyplot as plt\n",
    "from sklearn.datasets import load_iris\n",
    "from sklearn.metrics import accuracy_score\n",
    "from sklearn.preprocessing import OneHotEncoder, MinMaxScaler\n",
    "\n",
    "%matplotlib inline\n",
    "np.random.seed(1)"
   ]
  },
  {
   "cell_type": "code",
   "execution_count": 2,
   "metadata": {},
   "outputs": [
    {
     "name": "stdout",
     "output_type": "stream",
     "text": [
      "(150, 4) (150, 3)\n"
     ]
    }
   ],
   "source": [
    "iris = load_iris()\n",
    "x = iris.data\n",
    "y = iris.target.reshape(-1, 1)\n",
    "\n",
    "perm = np.random.permutation(y.size)\n",
    "x = x[perm][:]\n",
    "y = y[perm][:]\n",
    "\n",
    "encoder = OneHotEncoder(categories='auto', dtype=np.int)\n",
    "y = encoder.fit_transform(y).toarray()\n",
    "\n",
    "scalar = MinMaxScaler()\n",
    "x = scalar.fit_transform(x)\n",
    "\n",
    "print(x.shape, y.shape)"
   ]
  },
  {
   "cell_type": "code",
   "execution_count": 3,
   "metadata": {},
   "outputs": [],
   "source": [
    "class NeuralNetwork():\n",
    "    def __init__(self, x, y, lr, params={}):\n",
    "        self.x = x\n",
    "        self.y = y\n",
    "        self.lr = lr\n",
    "        \n",
    "        self.layer1n = params['layer1n'] if 'layer1n' in params else 4\n",
    "        self.layer2n = params['layer2n'] if 'layer2n' in params else 8\n",
    "        self.outputn = iris.target_names.size\n",
    "        \n",
    "        self.layer1weights = self.random_initialize(self.layer1n, self.x.shape[0])\n",
    "        self.layer2weights = self.random_initialize(self.layer2n, self.layer1weights.shape[0])\n",
    "        self.outputWeights = self.random_initialize(self.outputn, self.layer2weights.shape[0])\n",
    "\n",
    "        self.layer1b = self.random_initialize(1, 1)\n",
    "        self.layer2b = self.random_initialize(1, 1)\n",
    "        self.outputb = self.random_initialize(1, 1)\n",
    "        \n",
    "    def random_initialize(self, *args):\n",
    "        return 2 * np.random.rand(*args) - 1\n",
    "        \n",
    "    def sigmoid(self, x):\n",
    "        return 1 / (1 + np.exp(-x))\n",
    "    \n",
    "    def sigmoid_prime(self, x):\n",
    "        return x * (1-x)\n",
    "    \n",
    "    def tanh(self, x):\n",
    "        return np.tanh(x)\n",
    "    \n",
    "    def tanh_prime(self, x):\n",
    "        return 1-(np.tanh(x)**2)\n",
    "    \n",
    "    def loss(self, x):\n",
    "        return np.mean(-self.y * np.log(x) - (1-self.y) * np.log(1-x))\n",
    "    \n",
    "    def loss_prime(self, x):\n",
    "        return -(self.y/x) + (1-self.y)/(1-x)\n",
    "    \n",
    "    def forward_pass(self, x, probs=False):\n",
    "        layer1 = self.tanh(np.dot(self.layer1weights, x) + self.layer1b)\n",
    "        layer2 = self.tanh(np.dot(self.layer2weights, layer1) + self.layer2b)\n",
    "        output = self.sigmoid(np.dot(self.outputWeights, layer2) + self.outputb)\n",
    "        \n",
    "        if probs:\n",
    "            output = output.T\n",
    "            for i in range(output.shape[0]):\n",
    "                temp = np.zeros(3)\n",
    "                temp[np.argmax(output[i])] = 1\n",
    "                output[i] = temp\n",
    "            \n",
    "            output = output.astype(np.int)\n",
    "        \n",
    "        return output\n",
    "    \n",
    "    def backward_pass(self, epochs):\n",
    "        loss = np.zeros(epochs)\n",
    "        \n",
    "        for epoch in range(epochs):\n",
    "            a1 = self.tanh(np.dot(self.layer1weights, self.x) + self.layer1b)\n",
    "            a2 = self.tanh(np.dot(self.layer2weights, a1) + self.layer2b)\n",
    "            a3 = self.sigmoid(np.dot(self.outputWeights, a2) + self.outputb)\n",
    "            \n",
    "            delta = self.loss_prime(a3) * self.sigmoid_prime(a3)\n",
    "            doutputWeights = np.dot(delta, a2.T) / self.x.shape[1]\n",
    "            doutputb = np.mean(delta)\n",
    "\n",
    "            delta = np.dot(self.outputWeights.T, delta) * self.tanh_prime(a2)\n",
    "            dlayer2weights = np.dot(delta, a1.T) / self.x.shape[1]\n",
    "            dlayer2b = np.mean(delta)\n",
    "\n",
    "            delta = np.dot(self.layer2weights.T, delta) * self.tanh_prime(a1)\n",
    "            dlayer1weights = np.dot(delta, self.x.T) / self.x.shape[1]\n",
    "            dlayer1b = np.mean(delta)\n",
    "\n",
    "            self.outputWeights = self.outputWeights - self.lr * doutputWeights\n",
    "            self.outputb = self.outputb - self.lr * doutputb\n",
    "\n",
    "            self.layer2weights = self.layer2weights - self.lr * dlayer2weights\n",
    "            self.layer2b = self.layer2b - self.lr * dlayer2b\n",
    "\n",
    "            self.layer1weights = self.layer1weights - self.lr * dlayer1weights\n",
    "            self.layer1b = self.layer1b - self.lr * dlayer1b\n",
    "            \n",
    "            loss[epoch] = self.loss(a3)\n",
    "            \n",
    "        return loss"
   ]
  },
  {
   "cell_type": "code",
   "execution_count": 4,
   "metadata": {},
   "outputs": [
    {
     "name": "stdout",
     "output_type": "stream",
     "text": [
      "accuracy:  0.9866666666666667\n"
     ]
    },
    {
     "data": {
      "image/png": "[encoded data removed]",
      "text/plain": [
       "<Figure size 432x288 with 1 Axes>"
      ]
     },
     "metadata": {
      "needs_background": "light"
     },
     "output_type": "display_data"
    }
   ],
   "source": [
    "epochs = 10000\n",
    "lr = 0.05\n",
    "\n",
    "nn = NeuralNetwork(x.T, y.T, lr)\n",
    "loss = nn.backward_pass(epochs)\n",
    "\n",
    "preds = nn.forward_pass(x.T, True)\n",
    "print('accuracy: ', accuracy_score(preds, y))\n",
    "\n",
    "plt.plot(np.arange(epochs), loss)\n",
    "plt.xlabel('epoch')\n",
    "plt.ylabel('cross entropy loss')\n",
    "plt.title('train performance')\n",
    "plt.show()"
   ]
  },
  {
   "cell_type": "code",
   "execution_count": null,
   "metadata": {},
   "outputs": [],
   "source": []
  }
 ],
 "metadata": {
  "kernelspec": {
   "display_name": "Python 3",
   "language": "python",
   "name": "python3"
  },
  "language_info": {
   "codemirror_mode": {
    "name": "ipython",
    "version": 3
   },
   "file_extension": ".py",
   "mimetype": "text/x-python",
   "name": "python",
   "nbconvert_exporter": "python",
   "pygments_lexer": "ipython3",
   "version": "3.7.2"
  }
 },
 "nbformat": 4,
 "nbformat_minor": 2
}
