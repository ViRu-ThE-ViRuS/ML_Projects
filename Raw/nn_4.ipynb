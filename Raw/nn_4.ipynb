{
 "cells": [
  {
   "cell_type": "code",
   "execution_count": 1,
   "metadata": {},
   "outputs": [],
   "source": [
    "import numpy as np\n",
    "import matplotlib.pyplot as plt\n",
    "from sklearn.datasets import load_iris\n",
    "from sklearn.metrics import accuracy_score\n",
    "from sklearn.preprocessing import OneHotEncoder, MinMaxScaler\n",
    "\n",
    "%matplotlib inline\n",
    "np.random.seed(1)   "
   ]
  },
  {
   "cell_type": "code",
   "execution_count": 4,
   "metadata": {},
   "outputs": [
    {
     "name": "stdout",
     "output_type": "stream",
     "text": [
      "(150, 4) (150, 3)\n"
     ]
    }
   ],
   "source": [
    "iris = load_iris()\n",
    "x = iris.data\n",
    "y = iris.target.reshape(-1, 1)\n",
    "\n",
    "perm = np.random.permutation(y.size)\n",
    "x = x[perm][:]\n",
    "y = y[perm][:]\n",
    "\n",
    "encoder = OneHotEncoder(categories='auto', dtype=np.int)\n",
    "y = encoder.fit_transform(y).toarray()\n",
    "\n",
    "scaler = MinMaxScaler()\n",
    "x = scaler.fit_transform(x)\n",
    "\n",
    "print(x.shape, y.shape)"
   ]
  },
  {
   "cell_type": "code",
   "execution_count": 147,
   "metadata": {},
   "outputs": [],
   "source": [
    "class NeuralNetwork():\n",
    "    def __init__(self, x, y, params={}):\n",
    "        self.x = x\n",
    "        self.y = y\n",
    "        \n",
    "        self.lr = params['lr'] if 'lr' in params else 0.05\n",
    "        self.ln = len(params['ln']) if 'ln' in params else 3\n",
    "        self.l = params['ln'] if 'ln' in params else [8, 4, 3]\n",
    "        \n",
    "        self.output_dimen = y.shape[0]\n",
    "        self.input_dimen = x.shape[0]\n",
    "        self.m = y.shape[1]\n",
    "        \n",
    "        self.activation = self.relu if 'activation' in params and params['activation'] == 'relu' \\\n",
    "                                    else self.tanh\n",
    "        self.activation_prime = self.relu_prime if self.activation == self.relu \\\n",
    "                                    else self.tanh_prime\n",
    "        \n",
    "        self.w = []\n",
    "        self.b = []\n",
    "        \n",
    "        for l in range(self.ln):\n",
    "            self.w.append(self.random_initialize(self.l[l], self.input_dimen if l == 0 else self.l[l-1]))\n",
    "            self.b.append(self.random_initialize(1, 1))\n",
    "        self.w.append(self.random_initialize(self.output_dimen, self.l[-1]))\n",
    "        self.b.append(self.random_initialize(1, 1))\n",
    "        \n",
    "        for l in range(self.ln + 1):\n",
    "            print(f'layer {l+1} -> w{self.w[l].shape}, b{self.b[l].shape}')\n",
    "            \n",
    "        print(f'total trainable params: {self.total_trainable_params()}')\n",
    "            \n",
    "    def random_initialize(self, *params):\n",
    "        return 2 * np.random.randn(*params) - 1\n",
    "    \n",
    "    def total_trainable_params(self):\n",
    "        temp = 0\n",
    "        temp += np.sum([w.size for w in self.w])\n",
    "        temp += np.sum([b.size for b in self.b])\n",
    "        return temp\n",
    "    \n",
    "    def relu(self, x):\n",
    "        return x * (x>0)\n",
    "    \n",
    "    def relu_prime(self, x):\n",
    "        return np.where(x > 0, 1.0, 0.0)\n",
    "    \n",
    "    def tanh(self, x):\n",
    "        return np.tanh(x)\n",
    "    \n",
    "    def tanh_prime(self, x):\n",
    "        return 1 - (np.tanh(x) ** 2)\n",
    "    \n",
    "    def loss(self, x):\n",
    "        return np.mean(-self.y * np.log(x) - (1-self.y) * np.log(1-x))\n",
    "    \n",
    "    def loss_prime(self, x):\n",
    "        return -(self.y/x) + ((1-self.y)/(1-x))\n",
    "    \n",
    "    def sigmoid(self, x):\n",
    "        z = np.exp(x - np.max(x))\n",
    "        return z / z.sum(axis=0)\n",
    "    \n",
    "    def sigmoid_prime(self, x):\n",
    "        return x * (1-x)\n",
    "    \n",
    "    def forward_prop(self, x=None, one_hot=False):\n",
    "        x = self.x if x == None else x\n",
    "        \n",
    "        layer_output = x\n",
    "        for l in range(self.ln):\n",
    "            layer_output = self.activation(np.dot(self.w[l], layer_output) + self.b[l])\n",
    "        output = self.sigmoid(np.dot(self.w[-1], layer_output) + self.b[-1])\n",
    "        \n",
    "        if one_hot:\n",
    "            output = output.T\n",
    "            for i in range(output.shape[0]):\n",
    "                temp = np.zeros(3)\n",
    "                temp[np.argmax(output[i])] = 1\n",
    "                output[i] = temp\n",
    "                \n",
    "            return output.astype(np.int)\n",
    "        \n",
    "        return output.T\n",
    "    \n",
    "    def backward_prop(self, epochs):\n",
    "        loss = []\n",
    "        \n",
    "        for epoch in range(epochs):\n",
    "            layer_output = []\n",
    "            for l in range(self.ln):\n",
    "                layer_output.append(self.activation(np.dot(self.w[l], self.x if l == 0 \\\n",
    "                                                           else layer_output[-1]) + self.b[l]))\n",
    "            layer_output.append(self.sigmoid(np.dot(self.w[-1], layer_output[-1]) + self.b[-1]))\n",
    "            loss.append(self.loss(layer_output[-1]))\n",
    "            \n",
    "            dw = []\n",
    "            db = []\n",
    "            \n",
    "            for l in reversed(range(self.ln+1)):\n",
    "                if l == self.ln:\n",
    "                    delta = self.loss_prime(layer_output[-1]) * self.sigmoid_prime(layer_output[-1])\n",
    "                else:\n",
    "                    delta = np.dot(self.w[l+1].T, delta) * self.activation_prime(layer_output[l])\n",
    "                \n",
    "                dw.append(np.dot(delta, self.x.T if l == 0 else layer_output[l-1].T) / self.m)\n",
    "                db.append(np.mean(delta))\n",
    "            \n",
    "            dw.reverse()\n",
    "            db.reverse()\n",
    "            \n",
    "            for i in range(self.ln):\n",
    "                self.w[i] += -self.lr * dw[i]\n",
    "                self.b[i] += -self.lr * db[i]\n",
    "            \n",
    "        return loss"
   ]
  },
  {
   "cell_type": "code",
   "execution_count": 155,
   "metadata": {},
   "outputs": [
    {
     "name": "stdout",
     "output_type": "stream",
     "text": [
      "layer 1 -> w(4, 4), b(1, 1)\n",
      "layer 2 -> w(8, 4), b(1, 1)\n",
      "layer 3 -> w(3, 8), b(1, 1)\n",
      "total trainable params: 75\n",
      "accuracy score: 0.9866666666666667\n"
     ]
    },
    {
     "data": {
      "image/png": "[encoded data removed]",
      "text/plain": [
       "<Figure size 432x288 with 1 Axes>"
      ]
     },
     "metadata": {
      "needs_background": "light"
     },
     "output_type": "display_data"
    }
   ],
   "source": [
    "epochs = 5000\n",
    "lr = 0.1\n",
    "nn = NeuralNetwork(x.T, y.T, params={'lr': lr, 'ln': [4, 8], 'activation': 'tanh'})\n",
    "\n",
    "nn.forward_prop(one_hot=True)\n",
    "loss = nn.backward_prop(epochs)\n",
    "\n",
    "print(f'accuracy score: {accuracy_score(nn.forward_prop(one_hot=True), y)}')\n",
    "\n",
    "plt.plot(np.arange(epochs), loss)\n",
    "plt.show()"
   ]
  },
  {
   "cell_type": "code",
   "execution_count": null,
   "metadata": {},
   "outputs": [],
   "source": []
  }
 ],
 "metadata": {
  "kernelspec": {
   "display_name": "Python 3",
   "language": "python",
   "name": "python3"
  },
  "language_info": {
   "codemirror_mode": {
    "name": "ipython",
    "version": 3
   },
   "file_extension": ".py",
   "mimetype": "text/x-python",
   "name": "python",
   "nbconvert_exporter": "python",
   "pygments_lexer": "ipython3",
   "version": "3.7.2"
  }
 },
 "nbformat": 4,
 "nbformat_minor": 2
}
