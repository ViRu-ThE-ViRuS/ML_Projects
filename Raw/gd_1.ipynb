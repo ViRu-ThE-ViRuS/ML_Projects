{
 "cells": [
  {
   "cell_type": "markdown",
   "metadata": {},
   "source": [
    "### Gradient Descent\n",
    "*in linear regression, one input feature*"
   ]
  },
  {
   "cell_type": "code",
   "execution_count": 28,
   "metadata": {},
   "outputs": [],
   "source": [
    "%matplotlib inline\n",
    "\n",
    "import numpy as np\n",
    "import matplotlib.pyplot as plt\n",
    "\n",
    "np.random.seed(0)"
   ]
  },
  {
   "cell_type": "markdown",
   "metadata": {},
   "source": [
    "- `epochs` is the number of times batch_gradient descent will be used\n",
    "- `alpha` is the learning rate of the gradient descent"
   ]
  },
  {
   "cell_type": "code",
   "execution_count": 29,
   "metadata": {},
   "outputs": [],
   "source": [
    "#hyperparameters\n",
    "n = 100\n",
    "epochs = 100\n",
    "target_m = 17\n",
    "target_b = 3\n",
    "alpha = 0.05"
   ]
  },
  {
   "cell_type": "markdown",
   "metadata": {},
   "source": [
    "- generate `n` training samples randomly as `x` and make a target output `y` given by `y=target_m*x + target_b` where target_m and target_b are the optimised parameters"
   ]
  },
  {
   "cell_type": "code",
   "execution_count": 30,
   "metadata": {},
   "outputs": [],
   "source": [
    "#generate data for linear regression, one input feature\n",
    "x = np.random.randn(n)\n",
    "y = target_m * x + target_b"
   ]
  },
  {
   "cell_type": "markdown",
   "metadata": {},
   "source": [
    "#### gradient descent works as:\n",
    "1. forward pass: calculate `_y` given by `m*x + b` where `m`, `b` are the current working values\n",
    "2. backward pass:\n",
    "    - error is mean squared error given by `(y-_y)**2`\n",
    "    - calculate gradient of error wrt m, and wrt g\n",
    "    - update values of `m`, `b`"
   ]
  },
  {
   "cell_type": "code",
   "execution_count": 31,
   "metadata": {},
   "outputs": [],
   "source": [
    "def step_gradient(m, b, x, y, lr):\n",
    "    #forward pass\n",
    "    _y = m*x + b\n",
    "    \n",
    "    #backward pass\n",
    "    grad_m = 0\n",
    "    grad_b = 0\n",
    "    \n",
    "    for i in range(len(x)):\n",
    "        grad_m += -2*(y[i] - _y[i])*x[i]\n",
    "        grad_b += -2*(y[i] - _y[i])\n",
    "        \n",
    "    grad_m /= len(x)\n",
    "    grad_b /= len(x)\n",
    "    \n",
    "    #update\n",
    "    m -= lr*grad_m\n",
    "    b -= lr*grad_b\n",
    "    \n",
    "    _y = m*x + b\n",
    "    error = np.mean((y-_y)**2)\n",
    "    \n",
    "    print('step error: ', error)\n",
    "    \n",
    "    return m, b, error"
   ]
  },
  {
   "cell_type": "code",
   "execution_count": 32,
   "metadata": {},
   "outputs": [],
   "source": [
    "initial_m = 2\n",
    "initial_b = 2"
   ]
  },
  {
   "cell_type": "code",
   "execution_count": 33,
   "metadata": {},
   "outputs": [
    {
     "name": "stdout",
     "output_type": "stream",
     "text": [
      "step error:  186.78348679367545\n",
      "step error:  150.30024057733573\n",
      "step error:  120.96276585632214\n",
      "step error:  97.36775988107527\n",
      "step error:  78.3881957035289\n",
      "step error:  63.11880117197084\n",
      "step error:  50.8323212679096\n",
      "step error:  40.944426561297526\n",
      "step error:  32.985554977229185\n",
      "step error:  26.578314049289666\n",
      "step error:  21.419343207924367\n",
      "step error:  17.264753884205735\n",
      "step error:  13.91844008086515\n",
      "step error:  11.222692204003886\n",
      "step error:  9.05065927040045\n",
      "step error:  7.300294639599927\n",
      "step error:  5.889492597584266\n",
      "step error:  4.7521809880589965\n",
      "step error:  3.8351814902109997\n",
      "step error:  3.095686354662704\n",
      "step error:  2.4992302559572797\n",
      "step error:  2.018059861370594\n",
      "step error:  1.6298229229085512\n",
      "step error:  1.316514110203406\n",
      "step error:  1.0636271685788696\n",
      "step error:  0.8594729114946783\n",
      "step error:  0.6946305230334962\n",
      "step error:  0.5615060413899127\n",
      "step error:  0.45397702903140347\n",
      "step error:  0.36710655837332223\n",
      "step error:  0.29691295318287597\n",
      "step error:  0.24018438571194223\n",
      "step error:  0.19432956627880066\n",
      "step error:  0.1572574787887692\n",
      "step error:  0.12728049524420862\n",
      "step error:  0.10303631104590387\n",
      "step error:  0.08342503412519825\n",
      "step error:  0.06755847745054641\n",
      "step error:  0.054719280570050925\n",
      "step error:  0.044327949161445536\n",
      "step error:  0.03591627421018868\n",
      "step error:  0.02910589221314084\n",
      "step error:  0.02359098899869394\n",
      "step error:  0.01912434384430658\n",
      "step error:  0.015506066783541357\n",
      "step error:  0.012574507740235316\n",
      "step error:  0.010198917365781334\n",
      "step error:  0.008273520976640103\n",
      "step error:  0.006712732644360072\n",
      "step error:  0.005447289376428003\n",
      "step error:  0.004421127933931304\n",
      "step error:  0.0035888611647827\n",
      "step error:  0.0029137384010315542\n",
      "step error:  0.0023659967725083715\n",
      "step error:  0.0019215282705385896\n",
      "step error:  0.001560801894869222\n",
      "step error:  0.0012679919106391214\n",
      "step error:  0.0010302726747853882\n",
      "step error:  0.0008372481012961488\n",
      "step error:  0.0006804899754382681\n",
      "step error:  0.0005531642830741565\n",
      "step error:  0.0004497287217336403\n",
      "step error:  0.00036568778999776557\n",
      "step error:  0.00029739445990586527\n",
      "step error:  0.0002418895435879732\n",
      "step error:  0.0001967715669404259\n",
      "step error:  0.00016009133798306255\n",
      "step error:  0.00013026650851470086\n",
      "step error:  0.00010601232562248565\n",
      "step error:  8.628549548203308e-05\n",
      "step error:  7.023866878546826e-05\n",
      "step error:  5.7183531747410973e-05\n",
      "step error:  4.656087052113202e-05\n",
      "step error:  3.791628740436072e-05\n",
      "step error:  3.0880498487084065e-05\n",
      "step error:  2.515334573777163e-05\n",
      "step error:  2.0490821114641177e-05\n",
      "step error:  1.6694533533069863e-05\n",
      "step error:  1.3603157408137667e-05\n",
      "step error:  1.1085488864332341e-05\n",
      "step error:  9.034806474867067e-06\n",
      "step error:  7.364290726881295e-06\n",
      "step error:  6.003302864753511e-06\n",
      "step error:  4.8943614120485505e-06\n",
      "step error:  3.990685189259045e-06\n",
      "step error:  3.254196383572558e-06\n",
      "step error:  2.6538972867156376e-06\n",
      "step error:  2.164550584669742e-06\n",
      "step error:  1.7656062779672793e-06\n",
      "step error:  1.4403290158371037e-06\n",
      "step error:  1.1750883126696407e-06\n",
      "step error:  9.58781163790898e-07\n",
      "step error:  7.823622981944317e-07\n",
      "step error:  6.384619499962076e-07\n",
      "step error:  5.210748008640664e-07\n",
      "step error:  4.25306807700264e-07\n",
      "step error:  3.4716911641713633e-07\n",
      "step error:  2.834102828423433e-07\n",
      "step error:  2.313796627555246e-07\n",
      "step error:  1.8891616662746037e-07\n"
     ]
    }
   ],
   "source": [
    "m = initial_m\n",
    "b = initial_b\n",
    "error = np.zeros(epochs)\n",
    "for i in range(epochs):\n",
    "    m, b, error[i] = step_gradient(m, b, x, y, alpha)"
   ]
  },
  {
   "cell_type": "code",
   "execution_count": 34,
   "metadata": {},
   "outputs": [
    {
     "data": {
      "text/plain": [
       "[<matplotlib.lines.Line2D at 0x117ff8860>]"
      ]
     },
     "execution_count": 34,
     "metadata": {},
     "output_type": "execute_result"
    },
    {
     "data": {
      "image/png": "[encoded data removed]",
      "text/plain": [
       "<Figure size 432x288 with 1 Axes>"
      ]
     },
     "metadata": {
      "needs_background": "light"
     },
     "output_type": "display_data"
    }
   ],
   "source": [
    "plt.plot(np.arange(epochs), error)"
   ]
  },
  {
   "cell_type": "code",
   "execution_count": 35,
   "metadata": {},
   "outputs": [
    {
     "data": {
      "text/plain": [
       "(16.999617510479624, 3.00022363083202)"
      ]
     },
     "execution_count": 35,
     "metadata": {},
     "output_type": "execute_result"
    }
   ],
   "source": [
    "m, b"
   ]
  },
  {
   "cell_type": "code",
   "execution_count": 36,
   "metadata": {},
   "outputs": [
    {
     "data": {
      "text/plain": [
       "3.82489520376339e-06"
      ]
     },
     "execution_count": 36,
     "metadata": {},
     "output_type": "execute_result"
    }
   ],
   "source": [
    "(target_m - m) / 100"
   ]
  },
  {
   "cell_type": "code",
   "execution_count": 37,
   "metadata": {},
   "outputs": [
    {
     "data": {
      "text/plain": [
       "-2.2363083202003866e-06"
      ]
     },
     "execution_count": 37,
     "metadata": {},
     "output_type": "execute_result"
    }
   ],
   "source": [
    "(target_b - b) / 100"
   ]
  },
  {
   "cell_type": "code",
   "execution_count": null,
   "metadata": {},
   "outputs": [],
   "source": []
  }
 ],
 "metadata": {
  "kernelspec": {
   "display_name": "Python 3",
   "language": "python",
   "name": "python3"
  },
  "language_info": {
   "codemirror_mode": {
    "name": "ipython",
    "version": 3
   },
   "file_extension": ".py",
   "mimetype": "text/x-python",
   "name": "python",
   "nbconvert_exporter": "python",
   "pygments_lexer": "ipython3",
   "version": "3.7.2"
  }
 },
 "nbformat": 4,
 "nbformat_minor": 2
}
