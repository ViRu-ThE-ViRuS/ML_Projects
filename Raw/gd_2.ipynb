{
 "cells": [
  {
   "cell_type": "code",
   "execution_count": 1,
   "metadata": {},
   "outputs": [],
   "source": [
    "%matplotlib inline\n",
    "import numpy as np\n",
    "import matplotlib.pyplot as plt\n",
    "import random"
   ]
  },
  {
   "cell_type": "code",
   "execution_count": 2,
   "metadata": {},
   "outputs": [],
   "source": [
    "np.random.seed(0)"
   ]
  },
  {
   "cell_type": "code",
   "execution_count": 3,
   "metadata": {},
   "outputs": [],
   "source": [
    "M = 100\n",
    "N = 5\n",
    "target_m = np.arange(N).reshape(1, N)\n",
    "target_b = 7\n",
    "lr = 0.5\n",
    "epochs = 50\n",
    "\n",
    "x = np.random.randn(M*N).reshape(M, N)\n",
    "y = (target_m.dot(x.T) + target_b).reshape(-1)"
   ]
  },
  {
   "cell_type": "code",
   "execution_count": 4,
   "metadata": {},
   "outputs": [],
   "source": [
    "def step_gradient(m, b, x, y, lr):\n",
    "    # forward pass\n",
    "    _y = m.dot(x.T) + b\n",
    "    \n",
    "    # backward pass\n",
    "    grad_m = np.zeros(N)\n",
    "    grad_b = 0\n",
    "    \n",
    "    for i in range(M):\n",
    "        _temp = -2*(y[i] - _y[i])\n",
    "        grad_m += _temp*x[i]\n",
    "        grad_b += _temp\n",
    "        \n",
    "    grad_m /= M\n",
    "    grad_b /= M\n",
    "    \n",
    "    # update\n",
    "    m = m - lr*grad_m\n",
    "    b = b - lr*grad_b\n",
    "    \n",
    "    # error\n",
    "    _y = m.dot(x.T) + b\n",
    "    _error = np.mean((y - _y)**2)\n",
    "    \n",
    "    return m, b, _error"
   ]
  },
  {
   "cell_type": "code",
   "execution_count": 5,
   "metadata": {},
   "outputs": [
    {
     "data": {
      "text/plain": [
       "[<matplotlib.lines.Line2D at 0x1145dd198>]"
      ]
     },
     "execution_count": 5,
     "metadata": {},
     "output_type": "execute_result"
    },
    {
     "data": {
      "image/png": "[encoded data removed]",
      "text/plain": [
       "<Figure size 720x360 with 1 Axes>"
      ]
     },
     "metadata": {
      "needs_background": "light"
     },
     "output_type": "display_data"
    }
   ],
   "source": [
    "m = np.random.randn(N)\n",
    "b = random.randint(-M, M)\n",
    "error = np.zeros(epochs)\n",
    "\n",
    "for i in range(epochs):\n",
    "    m, b, error[i] = step_gradient(m, b, x, y, lr) \n",
    "    \n",
    "plt.figure(figsize=[10, 5])\n",
    "plt.xlabel('epochs')\n",
    "plt.ylabel('error')\n",
    "plt.plot(np.arange(epochs), error)"
   ]
  },
  {
   "cell_type": "code",
   "execution_count": 6,
   "metadata": {},
   "outputs": [
    {
     "name": "stdout",
     "output_type": "stream",
     "text": [
      "[[-2.50620195e-19  0.00000000e+00  0.00000000e+00  0.00000000e+00\n",
      "   0.00000000e+00]]\n",
      "0.0\n"
     ]
    }
   ],
   "source": [
    "print((target_m - m)/100)\n",
    "print((target_b - b)/100)"
   ]
  },
  {
   "cell_type": "code",
   "execution_count": 7,
   "metadata": {},
   "outputs": [
    {
     "data": {
      "text/plain": [
       "(array([2.50620195e-17, 1.00000000e+00, 2.00000000e+00, 3.00000000e+00,\n",
       "        4.00000000e+00]), array([[0, 1, 2, 3, 4]]), 7.0, 7)"
      ]
     },
     "execution_count": 7,
     "metadata": {},
     "output_type": "execute_result"
    }
   ],
   "source": [
    "m, target_m, b, target_b"
   ]
  },
  {
   "cell_type": "code",
   "execution_count": null,
   "metadata": {},
   "outputs": [],
   "source": []
  }
 ],
 "metadata": {
  "kernelspec": {
   "display_name": "Python 3",
   "language": "python",
   "name": "python3"
  },
  "language_info": {
   "codemirror_mode": {
    "name": "ipython",
    "version": 3
   },
   "file_extension": ".py",
   "mimetype": "text/x-python",
   "name": "python",
   "nbconvert_exporter": "python",
   "pygments_lexer": "ipython3",
   "version": "3.7.2"
  }
 },
 "nbformat": 4,
 "nbformat_minor": 2
}
