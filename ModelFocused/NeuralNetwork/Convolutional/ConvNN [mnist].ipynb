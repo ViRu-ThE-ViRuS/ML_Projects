{
 "cells": [
  {
   "cell_type": "code",
   "execution_count": 1,
   "metadata": {},
   "outputs": [],
   "source": [
    "import numpy as np\n",
    "import matplotlib.pyplot as plt\n",
    "import tensorflow as tf\n",
    "from tensorflow.examples.tutorials.mnist import input_data\n",
    "import pandas as pd\n",
    "from tqdm import tqdm\n",
    "\n",
    "%matplotlib inline"
   ]
  },
  {
   "cell_type": "code",
   "execution_count": 2,
   "metadata": {
    "collapsed": true
   },
   "outputs": [
    {
     "name": "stdout",
     "output_type": "stream",
     "text": [
      "WARNING:tensorflow:From <ipython-input-2-d651cc53d7d8>:1: read_data_sets (from tensorflow.contrib.learn.python.learn.datasets.mnist) is deprecated and will be removed in a future version.\n",
      "Instructions for updating:\n",
      "Please use alternatives such as official/mnist/dataset.py from tensorflow/models.\n",
      "WARNING:tensorflow:From /home/viraat-chandra/Workspace/Machine_Learning/Tensorflow_GPU_Venv/_tf_gpu/lib/python3.6/site-packages/tensorflow/contrib/learn/python/learn/datasets/mnist.py:260: maybe_download (from tensorflow.contrib.learn.python.learn.datasets.base) is deprecated and will be removed in a future version.\n",
      "Instructions for updating:\n",
      "Please write your own downloading logic.\n",
      "WARNING:tensorflow:From /home/viraat-chandra/Workspace/Machine_Learning/Tensorflow_GPU_Venv/_tf_gpu/lib/python3.6/site-packages/tensorflow/contrib/learn/python/learn/datasets/mnist.py:262: extract_images (from tensorflow.contrib.learn.python.learn.datasets.mnist) is deprecated and will be removed in a future version.\n",
      "Instructions for updating:\n",
      "Please use tf.data to implement this functionality.\n",
      "Extracting /tmp/data/train-images-idx3-ubyte.gz\n",
      "WARNING:tensorflow:From /home/viraat-chandra/Workspace/Machine_Learning/Tensorflow_GPU_Venv/_tf_gpu/lib/python3.6/site-packages/tensorflow/contrib/learn/python/learn/datasets/mnist.py:267: extract_labels (from tensorflow.contrib.learn.python.learn.datasets.mnist) is deprecated and will be removed in a future version.\n",
      "Instructions for updating:\n",
      "Please use tf.data to implement this functionality.\n",
      "Extracting /tmp/data/train-labels-idx1-ubyte.gz\n",
      "WARNING:tensorflow:From /home/viraat-chandra/Workspace/Machine_Learning/Tensorflow_GPU_Venv/_tf_gpu/lib/python3.6/site-packages/tensorflow/contrib/learn/python/learn/datasets/mnist.py:110: dense_to_one_hot (from tensorflow.contrib.learn.python.learn.datasets.mnist) is deprecated and will be removed in a future version.\n",
      "Instructions for updating:\n",
      "Please use tf.one_hot on tensors.\n",
      "Extracting /tmp/data/t10k-images-idx3-ubyte.gz\n",
      "Extracting /tmp/data/t10k-labels-idx1-ubyte.gz\n",
      "WARNING:tensorflow:From /home/viraat-chandra/Workspace/Machine_Learning/Tensorflow_GPU_Venv/_tf_gpu/lib/python3.6/site-packages/tensorflow/contrib/learn/python/learn/datasets/mnist.py:290: DataSet.__init__ (from tensorflow.contrib.learn.python.learn.datasets.mnist) is deprecated and will be removed in a future version.\n",
      "Instructions for updating:\n",
      "Please use alternatives such as official/mnist/dataset.py from tensorflow/models.\n"
     ]
    }
   ],
   "source": [
    "mnist = input_data.read_data_sets(\"/tmp/data/\", one_hot=True)"
   ]
  },
  {
   "cell_type": "code",
   "execution_count": 3,
   "metadata": {},
   "outputs": [],
   "source": [
    "nclasses = 10\n",
    "batchSize = 128\n",
    "keepRate = 0.8\n",
    "epochs = 15"
   ]
  },
  {
   "cell_type": "code",
   "execution_count": 4,
   "metadata": {},
   "outputs": [],
   "source": [
    "x = tf.placeholder(tf.float32, shape=[None, 784])\n",
    "y = tf.placeholder(tf.float32, shape=[None, 10])"
   ]
  },
  {
   "cell_type": "code",
   "execution_count": 5,
   "metadata": {},
   "outputs": [],
   "source": [
    "def conv2d(x, W):\n",
    "    return tf.nn.conv2d(x, W, strides=[1, 1, 1, 1], padding='SAME')\n",
    "\n",
    "def maxpool2d(x):\n",
    "    return tf.nn.max_pool(x, ksize=[1, 2, 2, 1], strides=[1, 2, 2, 1], padding='SAME')"
   ]
  },
  {
   "cell_type": "code",
   "execution_count": 6,
   "metadata": {},
   "outputs": [],
   "source": [
    "def cnn(x):\n",
    "    weights = {\n",
    "        'Wconv1': tf.Variable(tf.random_normal([5, 5, 1, 32])),\n",
    "        'Wconv2': tf.Variable(tf.random_normal([5, 5, 32, 64])),\n",
    "        'Wfc1': tf.Variable(tf.random_normal([7*7*64, 1024])),\n",
    "        'out': tf.Variable(tf.random_normal([1024, nclasses]))\n",
    "    }\n",
    "    \n",
    "    biases = {\n",
    "        'bconv1': tf.Variable(tf.random_normal([32])),\n",
    "        'bconv2': tf.Variable(tf.random_normal([64])),\n",
    "        'bfc1': tf.Variable(tf.random_normal([1024])),\n",
    "        'out': tf.Variable(tf.random_normal([nclasses]))\n",
    "    }\n",
    "    \n",
    "    x = tf.reshape(x, [-1, 28, 28, 1])\n",
    "    \n",
    "    out = tf.nn.relu(conv2d(x, weights['Wconv1']) + biases['bconv1'])\n",
    "    out = maxpool2d(out)\n",
    "    \n",
    "    out = tf.nn.relu(conv2d(out, weights['Wconv2']) + biases['bconv2'])\n",
    "    out = maxpool2d(out)\n",
    "    \n",
    "    out = tf.reshape(out, [-1, 7*7*64])\n",
    "    \n",
    "    out = tf.nn.relu(tf.matmul(out, weights['Wfc1']) + biases['bfc1'])\n",
    "    out = tf.nn.dropout(out, keepRate)\n",
    "    \n",
    "    out = tf.matmul(out, weights['out']) + biases['out']\n",
    "    \n",
    "    return out"
   ]
  },
  {
   "cell_type": "code",
   "execution_count": 7,
   "metadata": {},
   "outputs": [],
   "source": [
    "def trainCNN(x):\n",
    "    losses = []\n",
    "    prediction = cnn(x)\n",
    "    loss = tf.reduce_mean(tf.nn.softmax_cross_entropy_with_logits_v2(labels=y, logits=prediction))\n",
    "    optimizer = tf.train.AdamOptimizer().minimize(loss)\n",
    "    \n",
    "    with tf.Session() as sess:\n",
    "        sess.run(tf.global_variables_initializer())\n",
    "        \n",
    "        for epoch in range(epochs):\n",
    "            epochLoss = 0\n",
    "\n",
    "            for _ in range(int(mnist.train.num_examples/batchSize)):\n",
    "                batchX, batchY = mnist.train.next_batch(batchSize)\n",
    "                _, l = sess.run([optimizer, loss], feed_dict={x: batchX, y: batchY})\n",
    "                epochLoss += l\n",
    "            \n",
    "            losses.append(epochLoss)\n",
    "            print('Epoch', epoch+1, '/', epochs, 'loss:', epochLoss)\n",
    "            \n",
    "        correct = tf.equal(tf.argmax(prediction, 1), tf.argmax(y, 1))\n",
    "        acc = tf.reduce_mean(tf.cast(correct, tf.float32))\n",
    "        print('Accuracy: ', sess.run([acc], feed_dict={x: mnist.test.images, y: mnist.test.labels}))\n",
    "    \n",
    "    return losses"
   ]
  },
  {
   "cell_type": "code",
   "execution_count": 8,
   "metadata": {},
   "outputs": [
    {
     "name": "stdout",
     "output_type": "stream",
     "text": [
      "Epoch 1 / 15 loss: 3028914.3520202637\n",
      "Epoch 2 / 15 loss: 429885.399269104\n",
      "Epoch 3 / 15 loss: 226864.82236862183\n",
      "Epoch 4 / 15 loss: 137079.66834640503\n",
      "Epoch 5 / 15 loss: 93681.88971710205\n",
      "Epoch 6 / 15 loss: 68994.80093193054\n",
      "Epoch 7 / 15 loss: 53230.357697710395\n",
      "Epoch 8 / 15 loss: 40041.52570152376\n",
      "Epoch 9 / 15 loss: 31077.932881124714\n",
      "Epoch 10 / 15 loss: 26130.85000705719\n",
      "Epoch 11 / 15 loss: 22612.585225105286\n",
      "Epoch 12 / 15 loss: 18171.707588083416\n",
      "Epoch 13 / 15 loss: 14976.102430623978\n",
      "Epoch 14 / 15 loss: 12851.52596282959\n",
      "Epoch 15 / 15 loss: 10404.445821760222\n",
      "Accuracy:  [0.976]\n"
     ]
    }
   ],
   "source": [
    "l = trainCNN(x)"
   ]
  },
  {
   "cell_type": "code",
   "execution_count": 9,
   "metadata": {},
   "outputs": [
    {
     "data": {
      "text/plain": [
       "Text(0,0.5,'Loss')"
      ]
     },
     "execution_count": 9,
     "metadata": {},
     "output_type": "execute_result"
    },
    {
     "data": {
      "image/png": "[encoded data removed]",
      "text/plain": [
       "<Figure size 432x288 with 1 Axes>"
      ]
     },
     "metadata": {},
     "output_type": "display_data"
    }
   ],
   "source": [
    "plt.plot(range(epochs), l)\n",
    "plt.xlabel('Epoch')\n",
    "plt.ylabel('Loss')"
   ]
  },
  {
   "cell_type": "code",
   "execution_count": null,
   "metadata": {},
   "outputs": [],
   "source": []
  }
 ],
 "metadata": {
  "kernelspec": {
   "display_name": "_tf_gpu",
   "language": "python",
   "name": "_tf_gpu"
  },
  "language_info": {
   "codemirror_mode": {
    "name": "ipython",
    "version": 3
   },
   "file_extension": ".py",
   "mimetype": "text/x-python",
   "name": "python",
   "nbconvert_exporter": "python",
   "pygments_lexer": "ipython3",
   "version": "3.6.5"
  }
 },
 "nbformat": 4,
 "nbformat_minor": 2
}
