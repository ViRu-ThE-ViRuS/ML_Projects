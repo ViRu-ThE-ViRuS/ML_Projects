{
 "cells": [
  {
   "cell_type": "code",
   "execution_count": 31,
   "metadata": {},
   "outputs": [],
   "source": [
    "import tflearn as tf\n",
    "import tflearn.datasets.mnist as mnist\n",
    "import matplotlib.pyplot as plt\n",
    "import numpy as np\n",
    "import os\n",
    "%matplotlib inline\n",
    "\n",
    "import tensorflow as TF\n",
    "TF.reset_default_graph()"
   ]
  },
  {
   "cell_type": "code",
   "execution_count": 32,
   "metadata": {},
   "outputs": [
    {
     "name": "stdout",
     "output_type": "stream",
     "text": [
      "Extracting mnist/train-images-idx3-ubyte.gz\n",
      "Extracting mnist/train-labels-idx1-ubyte.gz\n",
      "Extracting mnist/t10k-images-idx3-ubyte.gz\n",
      "Extracting mnist/t10k-labels-idx1-ubyte.gz\n"
     ]
    }
   ],
   "source": [
    "X, Y, testX, testY = mnist.load_data(one_hot=True)\n",
    "\n",
    "input_layer = tf.input_data(shape=[None, 784])\n",
    "net1 = tf.fully_connected(input_layer, 64, activation='relu')\n",
    "net2 = tf.fully_connected(net1, 32, activation='relu')\n",
    "net3 = tf.fully_connected(net2, 10, activation='softmax')\n",
    "net4 = tf.regression(net3, optimizer='Adam', loss='categorical_crossentropy')"
   ]
  },
  {
   "cell_type": "code",
   "execution_count": 33,
   "metadata": {},
   "outputs": [
    {
     "name": "stdout",
     "output_type": "stream",
     "text": [
      "INFO:tensorflow:Restoring parameters from /home/viraat-chandra/Workspace/Machine_Learning/Tensorflow_VENV/Projects/others/MNIST_Testing/20_trained_model.tflearn\n"
     ]
    }
   ],
   "source": [
    "model = tf.DNN(net4)\n",
    "\n",
    "if not os.path.isfile('20_trained_model.tflearn.index'):\n",
    "    model.fit(X, Y, n_epoch=20, validation_set=[testX, testY], show_metric=True, run_id='dense_model')\n",
    "    model.save('20_trained_model.tflearn')\n",
    "else:\n",
    "    model.load('20_trained_model.tflearn')"
   ]
  },
  {
   "cell_type": "code",
   "execution_count": 34,
   "metadata": {},
   "outputs": [],
   "source": [
    "def get_title(x):\n",
    "    return str(np.argmax(x))\n",
    "\n",
    "def show_image(x, pred=None):\n",
    "    plt.imshow(testX[x].reshape([28, 28]), cmap='gray_r')\n",
    "    plt.title(get_title(testY[x]) + ' - {}'.format(get_title(pred)))\n",
    "    plt.show()"
   ]
  },
  {
   "cell_type": "code",
   "execution_count": 45,
   "metadata": {},
   "outputs": [
    {
     "data": {
      "image/png": "[encoded data removed]",
      "text/plain": [
       "<matplotlib.figure.Figure at 0x7f72b8e04588>"
      ]
     },
     "metadata": {},
     "output_type": "display_data"
    },
    {
     "data": {
      "image/png": "[encoded data removed]",
      "text/plain": [
       "<matplotlib.figure.Figure at 0x7f72b9374550>"
      ]
     },
     "metadata": {},
     "output_type": "display_data"
    },
    {
     "data": {
      "image/png": "[encoded data removed]",
      "text/plain": [
       "<matplotlib.figure.Figure at 0x7f72b9725978>"
      ]
     },
     "metadata": {},
     "output_type": "display_data"
    }
   ],
   "source": [
    "for i in range(3):\n",
    "    show_image(i, model.predict([testX[i]]))"
   ]
  }
 ],
 "metadata": {
  "kernelspec": {
   "display_name": "TF",
   "language": "python",
   "name": "tf"
  },
  "language_info": {
   "codemirror_mode": {
    "name": "ipython",
    "version": 3
   },
   "file_extension": ".py",
   "mimetype": "text/x-python",
   "name": "python",
   "nbconvert_exporter": "python",
   "pygments_lexer": "ipython3",
   "version": "3.6.3"
  }
 },
 "nbformat": 4,
 "nbformat_minor": 2
}
